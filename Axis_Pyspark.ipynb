{
 "cells": [
  {
   "cell_type": "code",
   "execution_count": null,
   "metadata": {
    "colab": {
     "base_uri": "https://localhost:8080/"
    },
    "id": "FUDM-CXNNtTB",
    "outputId": "0d870cd2-6aba-420a-8597-b8a04054a3be"
   },
   "outputs": [
    {
     "name": "stdout",
     "output_type": "stream",
     "text": [
      "300\n"
     ]
    }
   ],
   "source": [
    "x = 100\n",
    "\n",
    "y = 200\n",
    "\n",
    "print(x+y)"
   ]
  },
  {
   "cell_type": "code",
   "execution_count": null,
   "metadata": {
    "colab": {
     "base_uri": "https://localhost:8080/"
    },
    "id": "lBAo4d-nO2W6",
    "outputId": "cd257d68-08bc-4223-ae86-34cf52e87a6f"
   },
   "outputs": [
    {
     "name": "stdout",
     "output_type": "stream",
     "text": [
      "hello all\n"
     ]
    }
   ],
   "source": [
    "print(\"hello all\")"
   ]
  },
  {
   "cell_type": "code",
   "execution_count": null,
   "metadata": {
    "colab": {
     "base_uri": "https://localhost:8080/"
    },
    "id": "cyXv46atPcqL",
    "outputId": "a06206a2-67bd-4950-c854-6e54e6b6d524"
   },
   "outputs": [
    {
     "name": "stdout",
     "output_type": "stream",
     "text": [
      "Looking in indexes: https://pypi.org/simple, https://us-python.pkg.dev/colab-wheels/public/simple/\n",
      "Collecting pyspark\n",
      "  Downloading pyspark-3.3.0.tar.gz (281.3 MB)\n",
      "\u001b[K     |████████████████████████████████| 281.3 MB 45 kB/s \n",
      "\u001b[?25hCollecting py4j==0.10.9.5\n",
      "  Downloading py4j-0.10.9.5-py2.py3-none-any.whl (199 kB)\n",
      "\u001b[K     |████████████████████████████████| 199 kB 48.0 MB/s \n",
      "\u001b[?25hBuilding wheels for collected packages: pyspark\n",
      "  Building wheel for pyspark (setup.py) ... \u001b[?25l\u001b[?25hdone\n",
      "  Created wheel for pyspark: filename=pyspark-3.3.0-py2.py3-none-any.whl size=281764026 sha256=593a82c16f0e322bf4f0fcb987edff60f4b18a6e38e206f4ac0c66b5d1e66eea\n",
      "  Stored in directory: /root/.cache/pip/wheels/7a/8e/1b/f73a52650d2e5f337708d9f6a1750d451a7349a867f928b885\n",
      "Successfully built pyspark\n",
      "Installing collected packages: py4j, pyspark\n",
      "Successfully installed py4j-0.10.9.5 pyspark-3.3.0\n"
     ]
    }
   ],
   "source": [
    "pip install pyspark"
   ]
  },
  {
   "cell_type": "code",
   "execution_count": null,
   "metadata": {
    "colab": {
     "base_uri": "https://localhost:8080/"
    },
    "id": "4AtAV-fKPzd9",
    "outputId": "cea1d09f-c7fa-4e7a-b047-601595abd7cb"
   },
   "outputs": [
    {
     "name": "stdout",
     "output_type": "stream",
     "text": [
      "       6  0  0.1  0.2  0.3  0.4  0.5  0.6  0.7  0.8  ...  0.581  0.582  0.583  \\\n",
      "0      5  0    0    0    0    0    0    0    0    0  ...      0      0      0   \n",
      "1      7  0    0    0    0    0    0    0    0    0  ...      0      0      0   \n",
      "2      9  0    0    0    0    0    0    0    0    0  ...      0      0      0   \n",
      "3      5  0    0    0    0    0    0    0    0    0  ...      0      0      0   \n",
      "4      2  0    0    0    0    0    0    0    0    0  ...      0      0      0   \n",
      "...   .. ..  ...  ...  ...  ...  ...  ...  ...  ...  ...    ...    ...    ...   \n",
      "19994  0  0    0    0    0    0    0    0    0    0  ...      0      0      0   \n",
      "19995  1  0    0    0    0    0    0    0    0    0  ...      0      0      0   \n",
      "19996  2  0    0    0    0    0    0    0    0    0  ...      0      0      0   \n",
      "19997  9  0    0    0    0    0    0    0    0    0  ...      0      0      0   \n",
      "19998  5  0    0    0    0    0    0    0    0    0  ...      0      0      0   \n",
      "\n",
      "       0.584  0.585  0.586  0.587  0.588  0.589  0.590  \n",
      "0          0      0      0      0      0      0      0  \n",
      "1          0      0      0      0      0      0      0  \n",
      "2          0      0      0      0      0      0      0  \n",
      "3          0      0      0      0      0      0      0  \n",
      "4          0      0      0      0      0      0      0  \n",
      "...      ...    ...    ...    ...    ...    ...    ...  \n",
      "19994      0      0      0      0      0      0      0  \n",
      "19995      0      0      0      0      0      0      0  \n",
      "19996      0      0      0      0      0      0      0  \n",
      "19997      0      0      0      0      0      0      0  \n",
      "19998      0      0      0      0      0      0      0  \n",
      "\n",
      "[19999 rows x 785 columns]\n"
     ]
    }
   ],
   "source": [
    "import pandas as pd\n",
    "df = pd.read_csv(\"/content/sample_data/mnist_train_small.csv\")\n",
    "print(df)"
   ]
  },
  {
   "cell_type": "code",
   "execution_count": null,
   "metadata": {
    "id": "bJw2DRYrPdRD"
   },
   "outputs": [],
   "source": [
    "# SparkSession - entrypoint to spark - creates Session for the user\n",
    "\n",
    "from pyspark.sql import SparkSession\n",
    "spark = SparkSession.builder.getOrCreate()"
   ]
  },
  {
   "cell_type": "code",
   "execution_count": null,
   "metadata": {
    "id": "CAkRrtbUPlLJ"
   },
   "outputs": [],
   "source": [
    "#sample RDD creation - RDD is resillient distributed dataset - its basic building block in Spark"
   ]
  },
  {
   "cell_type": "code",
   "execution_count": null,
   "metadata": {
    "colab": {
     "base_uri": "https://localhost:8080/"
    },
    "id": "poHhHf1UPddP",
    "outputId": "6c2b47c0-e7a5-4305-ef43-8274f846e584"
   },
   "outputs": [
    {
     "name": "stdout",
     "output_type": "stream",
     "text": [
      "+-------+--------+----------+----------+\n",
      "|Roll No|    Name|Percentage|Department|\n",
      "+-------+--------+----------+----------+\n",
      "|  10001|    Anuj|       70%|B.Tech(cs)|\n",
      "|  10001|   Madhu|       70%|B.Tech(EC)|\n",
      "|  10001|  Manita|       70%|B.Tech(TE)|\n",
      "|  10001|Sudiksha|       70%|B.Tech(BT)|\n",
      "|  10001| Prasant|       70%|B.Tech(CS)|\n",
      "|  10001|Vanshika|       70%|B.Tech(EC)|\n",
      "+-------+--------+----------+----------+\n",
      "\n"
     ]
    }
   ],
   "source": [
    "spark = SparkSession.builder.appName(\"Pyspark Create RDD example\").config(\"spark.some.config.option\",\"some-value\").getOrCreate()\n",
    "student = spark.createDataFrame([\n",
    "('10001','Anuj','70%','B.Tech(cs)'),\n",
    "('10001','Madhu','70%','B.Tech(EC)'),\n",
    "('10001','Manita','70%','B.Tech(TE)'),\n",
    "('10001','Sudiksha','70%','B.Tech(BT)'),\n",
    "('10001','Prasant','70%','B.Tech(CS)'),\n",
    "('10001','Vanshika','70%','B.Tech(EC)')],\n",
    "['Roll No', 'Name', 'Percentage', 'Department']\n",
    "\n",
    ")\n",
    "student.show()\n",
    "\n",
    "\n"
   ]
  },
  {
   "cell_type": "code",
   "execution_count": null,
   "metadata": {
    "colab": {
     "base_uri": "https://localhost:8080/"
    },
    "id": "tiDAHLY1Wpds",
    "outputId": "29083009-4e4f-4a2d-bc8e-127c62f529dc"
   },
   "outputs": [
    {
     "name": "stdout",
     "output_type": "stream",
     "text": [
      "+----+----+----+-----+\n",
      "|col1|col2|col3| col4|\n",
      "+----+----+----+-----+\n",
      "|  12|  20|  35|a b c|\n",
      "|  41|  34|  64|d e f|\n",
      "|  70|  85|  68|g e f|\n",
      "+----+----+----+-----+\n",
      "\n"
     ]
    }
   ],
   "source": [
    "from pyspark.sql import SparkSession\n",
    "spark = SparkSession.builder.appName(\"Pyspark Create RDD example\").config(\"spark.some.config.option\", \"some-value\").getOrCreate()\n",
    "df1 = spark.sparkContext.parallelize ([\n",
    "(12, 20, 35, 'a b c'),\n",
    "(41, 34, 64, 'd e f'),\n",
    "(70, 85, 68, 'g e f')]).toDF(['col1', 'col2', 'col3','col4'])\n",
    "df1.show()"
   ]
  },
  {
   "cell_type": "code",
   "execution_count": null,
   "metadata": {
    "colab": {
     "base_uri": "https://localhost:8080/"
    },
    "id": "QnzS6xTZjJJ0",
    "outputId": "6bf75343-e8eb-4468-8ec0-f89aace57ae5"
   },
   "outputs": [
    {
     "name": "stdout",
     "output_type": "stream",
     "text": [
      "    Name  Year  Sales\n",
      "0    Nik  2020   1000\n",
      "1  Stony  2021   2300\n",
      "2   Jane  2022   2500\n",
      "3  Marry  2019   3000\n"
     ]
    }
   ],
   "source": [
    "import pandas as pd\n",
    "df2 = pd.DataFrame.from_dict(\n",
    "    { 'Name':['Nik','Stony','Jane','Marry'],\n",
    "      'Year':[2020,2021,2022,2019],\n",
    "      'Sales':[1000,2300,2500,3000]}\n",
    ")\n",
    "print(df2)"
   ]
  },
  {
   "cell_type": "code",
   "execution_count": null,
   "metadata": {
    "colab": {
     "base_uri": "https://localhost:8080/"
    },
    "id": "wgslntAMoqi0",
    "outputId": "5bd03df9-3c6c-4c1f-b2c8-78654e84efbe"
   },
   "outputs": [
    {
     "name": "stdout",
     "output_type": "stream",
     "text": [
      "+---+---+-------+----------+-------------------+\n",
      "|  a|  b|      c|         d|                  e|\n",
      "+---+---+-------+----------+-------------------+\n",
      "|  1|  2|string1|2022-01-01|2022-01-01 12:00:00|\n",
      "|  1|  2|string1|2022-02-01|2022-01-01 12:00:00|\n",
      "|  1|  2|string1|2022-03-01|2022-01-01 12:00:00|\n",
      "+---+---+-------+----------+-------------------+\n",
      "\n"
     ]
    }
   ],
   "source": [
    "# dataframe creation from a list of rows:\n",
    "\n",
    "from datetime import datetime, date\n",
    "import pandas as pd\n",
    "from pyspark.sql import Row\n",
    "df = spark.createDataFrame([\n",
    "      Row(a=1, b=2, c='string1', d=date(2022,1,1), e = datetime(2022,1,1, 12,0)),\n",
    "      Row(a=1, b=2, c='string1', d=date(2022,2,1), e = datetime(2022,1,1, 12,0)),\n",
    "      Row(a=1, b=2, c='string1', d=date(2022,3,1), e = datetime(2022,1,1, 12,0)),\n",
    "])\n",
    "df\n",
    "df.show()\n",
    "\n",
    "\n",
    "\n"
   ]
  },
  {
   "cell_type": "code",
   "execution_count": null,
   "metadata": {
    "colab": {
     "base_uri": "https://localhost:8080/"
    },
    "id": "0Eli6N69pzVF",
    "outputId": "04a0447c-d9d4-4d0f-ebf0-91c6604bf86b"
   },
   "outputs": [
    {
     "name": "stdout",
     "output_type": "stream",
     "text": [
      "+---+---+-------+----------+-------------------+\n",
      "|  a|  b|      c|         d|                  e|\n",
      "+---+---+-------+----------+-------------------+\n",
      "|  1|  2|string1|2022-01-01|2022-01-01 12:00:00|\n",
      "+---+---+-------+----------+-------------------+\n",
      "only showing top 1 row\n",
      "\n"
     ]
    }
   ],
   "source": [
    "df.show(1)"
   ]
  },
  {
   "cell_type": "code",
   "execution_count": null,
   "metadata": {
    "colab": {
     "base_uri": "https://localhost:8080/"
    },
    "id": "14CLND6Qp0aM",
    "outputId": "4f1decc4-46df-4144-a35e-36bfff2d8950"
   },
   "outputs": [
    {
     "name": "stdout",
     "output_type": "stream",
     "text": [
      "+---+---+-------+----------+-------------------+\n",
      "|  a|  b|      c|         d|                  e|\n",
      "+---+---+-------+----------+-------------------+\n",
      "|  1|  2|string1|2022-01-01|2022-01-01 12:00:00|\n",
      "|  1|  2|string1|2022-02-01|2022-01-01 12:00:00|\n",
      "+---+---+-------+----------+-------------------+\n",
      "only showing top 2 rows\n",
      "\n"
     ]
    }
   ],
   "source": [
    "df.show(2)"
   ]
  },
  {
   "cell_type": "code",
   "execution_count": null,
   "metadata": {
    "colab": {
     "base_uri": "https://localhost:8080/"
    },
    "id": "DxrGCUO-p2Rj",
    "outputId": "ad69569a-c431-4f6a-f251-910b4ce86440"
   },
   "outputs": [
    {
     "name": "stdout",
     "output_type": "stream",
     "text": [
      "+---+---+-------+----------+-------------------+\n",
      "|  a|  b|      c|         d|                  e|\n",
      "+---+---+-------+----------+-------------------+\n",
      "|  1|2.0|string1|2022-01-01|2022-01-01 11:50:23|\n",
      "|  1|2.0|string1|2022-01-01|2022-01-01 12:00:00|\n",
      "|  1|2.0|string1|2022-01-01|2022-01-01 12:00:00|\n",
      "+---+---+-------+----------+-------------------+\n",
      "\n"
     ]
    }
   ],
   "source": [
    "# Creating a dataframe from an RDD consisting of tuples:\n",
    "\n",
    "rdd = spark.sparkContext.parallelize(\n",
    "[\n",
    " (1,2., 'string1', date(2022,1,1), datetime(2022,1,1,11,50,23)),\n",
    "  (1,2., 'string1', date(2022,1,1), datetime(2022,1,1,12,0)),\n",
    "  (1,2., 'string1', date(2022,1,1), datetime(2022,1,1,12,0))\n",
    "\n",
    "\n",
    "\n",
    "]   \n",
    ")\n",
    "\n",
    "df = spark.createDataFrame(rdd, schema = ['a','b','c','d','e'])\n",
    "df\n",
    "df.show()"
   ]
  },
  {
   "cell_type": "code",
   "execution_count": null,
   "metadata": {
    "colab": {
     "base_uri": "https://localhost:8080/"
    },
    "id": "QycmV9phuSzP",
    "outputId": "a7459646-dc25-4125-a64e-b99ac238e079"
   },
   "outputs": [
    {
     "name": "stdout",
     "output_type": "stream",
     "text": [
      "+---+---+-------+----------+-------------------+-------+\n",
      "|  a|  b|      c|         d|                  e|upper_c|\n",
      "+---+---+-------+----------+-------------------+-------+\n",
      "|  1|2.0|string1|2022-01-01|2022-01-01 11:50:23|STRING1|\n",
      "|  1|2.0|string1|2022-01-01|2022-01-01 12:00:00|STRING1|\n",
      "|  1|2.0|string1|2022-01-01|2022-01-01 12:00:00|STRING1|\n",
      "+---+---+-------+----------+-------------------+-------+\n",
      "\n"
     ]
    }
   ],
   "source": [
    "from pyspark.sql import Column\n",
    "from pyspark.sql.functions import upper\n",
    "\n",
    "type(df.c) == type(upper(df.c)) == type(df.c.isNull())\n",
    "\n",
    "df.withColumn('upper_c', upper(df.c)).show()\n"
   ]
  },
  {
   "cell_type": "code",
   "execution_count": null,
   "metadata": {
    "colab": {
     "base_uri": "https://localhost:8080/"
    },
    "id": "ckQl7VF3uTRm",
    "outputId": "b9e262f7-33a3-4dbe-8d6a-820cc15cc15f"
   },
   "outputs": [
    {
     "name": "stdout",
     "output_type": "stream",
     "text": [
      "+----+----+----+-----+\n",
      "|col1|col2|col3| col4|\n",
      "+----+----+----+-----+\n",
      "|  12|  20|  35|a b c|\n",
      "|  41|  34|  64|d e f|\n",
      "|  70|  85|  68|g e f|\n",
      "+----+----+----+-----+\n",
      "\n"
     ]
    }
   ],
   "source": [
    "\n",
    "from pyspark.sql import SparkSession\n",
    "spark = SparkSession.builder.appName(\"New \").config(\"16gb\").getOrCreate()\n",
    "df4 = spark.sparkContext.parallelize ([\n",
    "(12, 20, 35, 'a b c'),\n",
    "(41, 34, 64, 'd e f'),\n",
    "(70, 85, 68, 'g e f')]).toDF(['col1', 'col2', 'col3','col4'])\n",
    "df4.show()"
   ]
  },
  {
   "cell_type": "code",
   "execution_count": null,
   "metadata": {
    "colab": {
     "base_uri": "https://localhost:8080/",
     "height": 219
    },
    "id": "Ge2Fr-giH6hK",
    "outputId": "669dc5f0-0ed1-4a33-c5e5-2debb9eca7d3"
   },
   "outputs": [
    {
     "data": {
      "text/html": [
       "\n",
       "            <div>\n",
       "                <p><b>SparkSession - in-memory</b></p>\n",
       "                \n",
       "        <div>\n",
       "            <p><b>SparkContext</b></p>\n",
       "\n",
       "            <p><a href=\"http://c9e0729165af:4040\">Spark UI</a></p>\n",
       "\n",
       "            <dl>\n",
       "              <dt>Version</dt>\n",
       "                <dd><code>v3.3.0</code></dd>\n",
       "              <dt>Master</dt>\n",
       "                <dd><code>local[*]</code></dd>\n",
       "              <dt>AppName</dt>\n",
       "                <dd><code>pyspark-shell</code></dd>\n",
       "            </dl>\n",
       "        </div>\n",
       "        \n",
       "            </div>\n",
       "        "
      ],
      "text/plain": [
       "<pyspark.sql.session.SparkSession at 0x7fa00a8f6090>"
      ]
     },
     "execution_count": 18,
     "metadata": {},
     "output_type": "execute_result"
    }
   ],
   "source": [
    "spark"
   ]
  },
  {
   "cell_type": "code",
   "execution_count": null,
   "metadata": {
    "id": "vCGZIOhiMv9O"
   },
   "outputs": [],
   "source": [
    "# ----------16thjuly"
   ]
  },
  {
   "cell_type": "code",
   "execution_count": null,
   "metadata": {
    "colab": {
     "base_uri": "https://localhost:8080/"
    },
    "id": "4yYTXx9NooXP",
    "outputId": "a861d410-7430-4cde-c63c-f4eb00f70261"
   },
   "outputs": [
    {
     "name": "stdout",
     "output_type": "stream",
     "text": [
      "+-----+------+---+---+\n",
      "|color| fruit| V1| V2|\n",
      "+-----+------+---+---+\n",
      "|  red|banana|  1| 10|\n",
      "| blue|banana|  2| 20|\n",
      "|  red|carrot|  3| 30|\n",
      "| blue| grape|  4| 40|\n",
      "|  red|carrot|  5| 50|\n",
      "|black|carrot|  6| 60|\n",
      "|  red|cherry|  7| 70|\n",
      "| blue|banana|  8| 80|\n",
      "+-----+------+---+---+\n",
      "\n"
     ]
    }
   ],
   "source": [
    "# Group the data:\n",
    "\n",
    "df = spark.createDataFrame([\n",
    "   ['red', 'banana', 1,10], ['blue','banana', 2,20],['red','carrot',3,30],\n",
    "   ['blue', 'grape', 4,40], ['red','carrot', 5,50],['black','carrot',6,60],\n",
    "   ['red', 'cherry', 7,70], ['blue','banana', 8,80]],schema = ['color','fruit','V1','V2'])                         \n",
    "\n",
    "df.show()"
   ]
  },
  {
   "cell_type": "code",
   "execution_count": null,
   "metadata": {
    "colab": {
     "base_uri": "https://localhost:8080/"
    },
    "id": "e6h_71zdrguT",
    "outputId": "17a4937e-93c1-4cb8-d581-b408095a46ae"
   },
   "outputs": [
    {
     "name": "stdout",
     "output_type": "stream",
     "text": [
      "+-----+-----------------+------------------+\n",
      "|color|          avg(V1)|           avg(V2)|\n",
      "+-----+-----------------+------------------+\n",
      "|  red|              4.0|              40.0|\n",
      "| blue|4.666666666666667|46.666666666666664|\n",
      "|black|              6.0|              60.0|\n",
      "+-----+-----------------+------------------+\n",
      "\n"
     ]
    }
   ],
   "source": [
    "df.groupby('color').avg().show()"
   ]
  },
  {
   "cell_type": "code",
   "execution_count": null,
   "metadata": {
    "colab": {
     "base_uri": "https://localhost:8080/"
    },
    "id": "BBJUtwA0rhhN",
    "outputId": "423706b2-d2f4-4889-a90d-296fd4fea70e"
   },
   "outputs": [
    {
     "name": "stdout",
     "output_type": "stream",
     "text": [
      "+-----+-----+\n",
      "|color|count|\n",
      "+-----+-----+\n",
      "|  red|    4|\n",
      "| blue|    3|\n",
      "|black|    1|\n",
      "+-----+-----+\n",
      "\n"
     ]
    }
   ],
   "source": [
    "df.groupby('color').count().show()"
   ]
  },
  {
   "cell_type": "code",
   "execution_count": null,
   "metadata": {
    "colab": {
     "base_uri": "https://localhost:8080/"
    },
    "id": "k_AcErwerh15",
    "outputId": "d5a3a322-f669-4f62-8825-d7635b47ed7f"
   },
   "outputs": [
    {
     "name": "stdout",
     "output_type": "stream",
     "text": [
      "Number of elements present in RDD -> 7\n"
     ]
    }
   ],
   "source": [
    "# Counting RDD values\n",
    "\n",
    "from pyspark import SparkContext #import statement for the library\n",
    "sc = SparkContext.getOrCreate()\n",
    "words = sc.parallelize([\"Python\",\"Java\",\"Hadoop\",\"C\",\"C++\",\"Spark vs Hadoop\",\"Pyspark vs Spark\"])\n",
    "counts = words.count()\n",
    "print(\"Number of elements present in RDD -> %i\" % (counts))"
   ]
  },
  {
   "cell_type": "code",
   "execution_count": null,
   "metadata": {
    "colab": {
     "base_uri": "https://localhost:8080/"
    },
    "id": "Myww_XLbriJJ",
    "outputId": "841af8a7-d632-4639-a4d8-6366b65a81af"
   },
   "outputs": [
    {
     "name": "stdout",
     "output_type": "stream",
     "text": [
      "Number of elements present in RDD -> 5\n"
     ]
    }
   ],
   "source": [
    "# Counting RDD values\n",
    "\n",
    "from pyspark import SparkContext #import statement for the library\n",
    "sc = SparkContext.getOrCreate()\n",
    "words = sc.parallelize([1,2,3,4,5])\n",
    "counts = words.count()\n",
    "print(\"Number of elements present in RDD -> %d\" % (counts))"
   ]
  },
  {
   "cell_type": "code",
   "execution_count": null,
   "metadata": {
    "id": "QnCsifrZrib6"
   },
   "outputs": [],
   "source": [
    "# Counting RDD values\n",
    "\n",
    "from pyspark import SparkContext #import statement for the library\n",
    "sc = SparkContext.getOrCreate()\n",
    "words = sc.parallelize([\"Python\",\"Java\",\"Hadoop\",\"C\",\"C++\",\"Spark vs Hadoop\",\"Pyspark vs Spark\"])\n",
    "\n",
    "def f(x):\n",
    "  print(x)\n",
    "  fore = words.foreach(f) #foreach means going to take everyword present in list store in fore\n"
   ]
  },
  {
   "cell_type": "code",
   "execution_count": null,
   "metadata": {
    "colab": {
     "base_uri": "https://localhost:8080/"
    },
    "id": "cgei487K2mZk",
    "outputId": "a74bbfbc-b7eb-454b-9cc9-7dbd89c78fd4"
   },
   "outputs": [
    {
     "name": "stdout",
     "output_type": "stream",
     "text": [
      "Original data\n",
      "+------+-----------------+------+---+\n",
      "|Emp ID|         Emp Name|Salary|Age|\n",
      "+------+-----------------+------+---+\n",
      "|  1201| {Sandipan, Paul}| 10000| 24|\n",
      "|  1202|  {Arman, Mishra}| 10000| 26|\n",
      "|  1203| {Prasant, attri}| 10000| 24|\n",
      "|  1204|{Shashank, Venna}| 60000| 24|\n",
      "|  1205|      {Shruti, P}| 10000| 29|\n",
      "|  1206| {vanshika, Jain}| 10000| 24|\n",
      "|  1207|  {Saikat, Dutta}| 10000| 24|\n",
      "|  1208|      {Pritam, D}| 60000| 30|\n",
      "+------+-----------------+------+---+\n",
      "\n"
     ]
    }
   ],
   "source": [
    "# DataFrameprint Employee Details:\n",
    "\n",
    "import pyspark\n",
    "from pyspark.sql import SparkSession\n",
    "from pyspark.sql import functions as F\n",
    "\n",
    "# Creating spark session\n",
    "\n",
    "spark = SparkSession.builder.appName('sparkdf').getOrCreate()\n",
    "\n",
    "# List of employees\n",
    "\n",
    "data = [\n",
    "        (1201,(\"Sandipan\",\"Paul\"),10000, 24),\n",
    "        (1202,(\"Arman\",\"Mishra\"),10000, 26),\n",
    "        (1203,(\"Prasant\",\"attri\"),10000, 24),\n",
    "        (1204,(\"Shashank\",\"Venna\"),60000, 24),\n",
    "        (1205,(\"Shruti\",\"P\"),10000, 29),\n",
    "        (1206,(\"vanshika\",\"Jain\"),10000, 24),\n",
    "        (1207,(\"Saikat\",\"Dutta\"),10000, 24),\n",
    "        (1208,(\"Pritam\",\"D\"),60000, 30),\n",
    "]\n",
    "\n",
    "# Specify column names:\n",
    "\n",
    "columns = ['Emp ID', 'Emp Name','Salary','Age']\n",
    "\n",
    "# creating dataframe from the list of data\n",
    "\n",
    "df = spark.createDataFrame(data, columns)\n",
    "\n",
    "print('Original data')\n",
    "\n",
    "df.show()\n",
    "\n",
    "\n",
    "\n",
    "          "
   ]
  },
  {
   "cell_type": "code",
   "execution_count": null,
   "metadata": {
    "colab": {
     "base_uri": "https://localhost:8080/"
    },
    "id": "Hm5CiZTJ2mlz",
    "outputId": "d815b89c-358d-4474-f5e0-f1facca34440"
   },
   "outputs": [
    {
     "name": "stdout",
     "output_type": "stream",
     "text": [
      "employee age equal or more than 25 are\n",
      "+------+---------------+------+---+\n",
      "|Emp ID|       Emp Name|Salary|Age|\n",
      "+------+---------------+------+---+\n",
      "|  1202|{Arman, Mishra}| 10000| 26|\n",
      "|  1205|    {Shruti, P}| 10000| 29|\n",
      "|  1208|    {Pritam, D}| 60000| 30|\n",
      "+------+---------------+------+---+\n",
      "\n"
     ]
    }
   ],
   "source": [
    "# filter dataFrame based on single condition:\n",
    "\n",
    "df2 = df.where(df.Age >=25)\n",
    "print(\"employee age equal or more than 25 are\")\n",
    "df2.show()"
   ]
  },
  {
   "cell_type": "code",
   "execution_count": null,
   "metadata": {
    "colab": {
     "base_uri": "https://localhost:8080/"
    },
    "id": "yHZVPG7_2mx3",
    "outputId": "68d5ecc4-cdf7-4c9e-a60a-02e0f698a806"
   },
   "outputs": [
    {
     "name": "stdout",
     "output_type": "stream",
     "text": [
      "employee age less than 25 are\n",
      "+------+-----------------+------+---+\n",
      "|Emp ID|         Emp Name|Salary|Age|\n",
      "+------+-----------------+------+---+\n",
      "|  1201| {Sandipan, Paul}| 10000| 24|\n",
      "|  1203| {Prasant, attri}| 10000| 24|\n",
      "|  1204|{Shashank, Venna}| 60000| 24|\n",
      "|  1206| {vanshika, Jain}| 10000| 24|\n",
      "|  1207|  {Saikat, Dutta}| 10000| 24|\n",
      "+------+-----------------+------+---+\n",
      "\n"
     ]
    }
   ],
   "source": [
    "df2 = df.where(df.Age < 25)\n",
    "print(\"employee age less than 25 are\")\n",
    "df2.show()"
   ]
  },
  {
   "cell_type": "code",
   "execution_count": null,
   "metadata": {
    "colab": {
     "base_uri": "https://localhost:8080/"
    },
    "id": "JUE0m5Yh2m8Q",
    "outputId": "e9b5c4f0-1328-4a34-e436-6dea7ea1110e"
   },
   "outputs": [
    {
     "name": "stdout",
     "output_type": "stream",
     "text": [
      "employee age less than 25 are\n",
      "+------+-----------------+------+---+\n",
      "|Emp ID|         Emp Name|Salary|Age|\n",
      "+------+-----------------+------+---+\n",
      "|  1204|{Shashank, Venna}| 60000| 24|\n",
      "+------+-----------------+------+---+\n",
      "\n"
     ]
    }
   ],
   "source": [
    "#filter dataFrame based on multiple condition\n",
    "\n",
    "df3 = df.where((df.Age < 25) & (df.Salary > 50000))\n",
    "print(\"employee age less than 25 are\")\n",
    "df3.show()"
   ]
  },
  {
   "cell_type": "code",
   "execution_count": null,
   "metadata": {
    "colab": {
     "base_uri": "https://localhost:8080/"
    },
    "id": "rXVUl7nBQWvK",
    "outputId": "8b0e6a04-218c-4cfc-d2f3-3ba87d95054d"
   },
   "outputs": [
    {
     "name": "stdout",
     "output_type": "stream",
     "text": [
      "employees age equal to 29\n",
      "+------+-----------+------+---+\n",
      "|Emp ID|   Emp Name|Salary|Age|\n",
      "+------+-----------+------+---+\n",
      "|  1205|{Shruti, P}| 10000| 29|\n",
      "|  1208|{Pritam, D}| 60000| 30|\n",
      "+------+-----------+------+---+\n",
      "\n"
     ]
    }
   ],
   "source": [
    "# filter dataframe - using SQL expression\n",
    "\n",
    "df2 = df.where(df['Age'] >= 29)\n",
    "print(\"employees age equal to 29\")\n",
    "\n",
    "df2.show()"
   ]
  },
  {
   "cell_type": "code",
   "execution_count": null,
   "metadata": {
    "colab": {
     "base_uri": "https://localhost:8080/"
    },
    "id": "SHD5xHUMS2cN",
    "outputId": "fca3b7bd-38e9-415a-e513-df33b9583c3c"
   },
   "outputs": [
    {
     "name": "stdout",
     "output_type": "stream",
     "text": [
      "employees age equal to 29\n",
      "+------+-----------+------+---+\n",
      "|Emp ID|   Emp Name|Salary|Age|\n",
      "+------+-----------+------+---+\n",
      "|  1205|{Shruti, P}| 10000| 29|\n",
      "+------+-----------+------+---+\n",
      "\n"
     ]
    }
   ],
   "source": [
    "# filter dataframe using sql expression\n",
    "\n",
    "df2 = df.where('Age == 29')\n",
    "print(\"employees age equal to 29\")\n",
    "\n",
    "df2.show()"
   ]
  },
  {
   "cell_type": "code",
   "execution_count": null,
   "metadata": {
    "colab": {
     "base_uri": "https://localhost:8080/"
    },
    "id": "I-mmI_bEUGkQ",
    "outputId": "bf0818ec-57d2-45fa-b7fe-72f3cf03b8b3"
   },
   "outputs": [
    {
     "name": "stdout",
     "output_type": "stream",
     "text": [
      "employees age equal to 29\n",
      "+------+----------------+------+---+\n",
      "|Emp ID|        Emp Name|Salary|Age|\n",
      "+------+----------------+------+---+\n",
      "|  1201|{Sandipan, Paul}| 10000| 24|\n",
      "+------+----------------+------+---+\n",
      "\n"
     ]
    }
   ],
   "source": [
    "\n",
    "df2 = df.where(df['Emp ID'] == 1201)\n",
    "print(\"employees age equal to 29\")\n",
    "\n",
    "df2.show()\n"
   ]
  },
  {
   "cell_type": "code",
   "execution_count": null,
   "metadata": {
    "colab": {
     "base_uri": "https://localhost:8080/",
     "height": 415
    },
    "id": "BP6c5AFBWT4Q",
    "outputId": "ee2943cb-22b9-4a97-def7-bf3c89153fc1"
   },
   "outputs": [
    {
     "ename": "AnalysisException",
     "evalue": "ignored",
     "output_type": "error",
     "traceback": [
      "\u001b[0;31m---------------------------------------------------------------------------\u001b[0m",
      "\u001b[0;31mAnalysisException\u001b[0m                         Traceback (most recent call last)",
      "\u001b[0;32m<ipython-input-33-af85da6d2d09>\u001b[0m in \u001b[0;36m<module>\u001b[0;34m()\u001b[0m\n\u001b[1;32m      5\u001b[0m \u001b[0;34m\u001b[0m\u001b[0m\n\u001b[1;32m      6\u001b[0m \u001b[0mspark\u001b[0m \u001b[0;34m=\u001b[0m \u001b[0mSparkSession\u001b[0m          \u001b[0;34m.\u001b[0m\u001b[0mbuilder\u001b[0m         \u001b[0;34m.\u001b[0m\u001b[0mappName\u001b[0m\u001b[0;34m(\u001b[0m\u001b[0;34m\"Python Spark create RDD example\"\u001b[0m\u001b[0;34m)\u001b[0m         \u001b[0;34m.\u001b[0m\u001b[0mconfig\u001b[0m\u001b[0;34m(\u001b[0m\u001b[0;34m\"spark.some.config.option\"\u001b[0m\u001b[0;34m,\u001b[0m \u001b[0;34m\"some-value\"\u001b[0m\u001b[0;34m)\u001b[0m         \u001b[0;34m.\u001b[0m\u001b[0mgetOrCreate\u001b[0m\u001b[0;34m(\u001b[0m\u001b[0;34m)\u001b[0m\u001b[0;34m\u001b[0m\u001b[0;34m\u001b[0m\u001b[0m\n\u001b[0;32m----> 7\u001b[0;31m \u001b[0mdf\u001b[0m\u001b[0;34m=\u001b[0m \u001b[0mspark\u001b[0m\u001b[0;34m.\u001b[0m\u001b[0mread\u001b[0m\u001b[0;34m.\u001b[0m\u001b[0mformat\u001b[0m\u001b[0;34m(\u001b[0m\u001b[0;34m'csv'\u001b[0m\u001b[0;34m)\u001b[0m \u001b[0;34m.\u001b[0m                \u001b[0moptions\u001b[0m\u001b[0;34m(\u001b[0m\u001b[0mheader\u001b[0m\u001b[0;34m=\u001b[0m\u001b[0;34m'true'\u001b[0m\u001b[0;34m,\u001b[0m                         \u001b[0minferschema\u001b[0m \u001b[0;34m=\u001b[0m \u001b[0;34m'true'\u001b[0m\u001b[0;34m)\u001b[0m\u001b[0;34m.\u001b[0m                  \u001b[0mload\u001b[0m\u001b[0;34m(\u001b[0m\u001b[0;34m\"/content/Companies.csv\"\u001b[0m\u001b[0;34m,\u001b[0m\u001b[0mheader\u001b[0m\u001b[0;34m=\u001b[0m\u001b[0;32mTrue\u001b[0m\u001b[0;34m)\u001b[0m\u001b[0;34m\u001b[0m\u001b[0;34m\u001b[0m\u001b[0m\n\u001b[0m\u001b[1;32m      8\u001b[0m \u001b[0mdf\u001b[0m\u001b[0;34m.\u001b[0m\u001b[0mshow\u001b[0m\u001b[0;34m(\u001b[0m\u001b[0;34m)\u001b[0m\u001b[0;34m\u001b[0m\u001b[0;34m\u001b[0m\u001b[0m\n\u001b[1;32m      9\u001b[0m \u001b[0mdf\u001b[0m\u001b[0;34m.\u001b[0m\u001b[0mprintSchema\u001b[0m\u001b[0;34m(\u001b[0m\u001b[0;34m)\u001b[0m\u001b[0;34m\u001b[0m\u001b[0;34m\u001b[0m\u001b[0m\n",
      "\u001b[0;32m/usr/local/lib/python3.7/dist-packages/pyspark/sql/readwriter.py\u001b[0m in \u001b[0;36mload\u001b[0;34m(self, path, format, schema, **options)\u001b[0m\n\u001b[1;32m    175\u001b[0m         \u001b[0mself\u001b[0m\u001b[0;34m.\u001b[0m\u001b[0moptions\u001b[0m\u001b[0;34m(\u001b[0m\u001b[0;34m**\u001b[0m\u001b[0moptions\u001b[0m\u001b[0;34m)\u001b[0m\u001b[0;34m\u001b[0m\u001b[0;34m\u001b[0m\u001b[0m\n\u001b[1;32m    176\u001b[0m         \u001b[0;32mif\u001b[0m \u001b[0misinstance\u001b[0m\u001b[0;34m(\u001b[0m\u001b[0mpath\u001b[0m\u001b[0;34m,\u001b[0m \u001b[0mstr\u001b[0m\u001b[0;34m)\u001b[0m\u001b[0;34m:\u001b[0m\u001b[0;34m\u001b[0m\u001b[0;34m\u001b[0m\u001b[0m\n\u001b[0;32m--> 177\u001b[0;31m             \u001b[0;32mreturn\u001b[0m \u001b[0mself\u001b[0m\u001b[0;34m.\u001b[0m\u001b[0m_df\u001b[0m\u001b[0;34m(\u001b[0m\u001b[0mself\u001b[0m\u001b[0;34m.\u001b[0m\u001b[0m_jreader\u001b[0m\u001b[0;34m.\u001b[0m\u001b[0mload\u001b[0m\u001b[0;34m(\u001b[0m\u001b[0mpath\u001b[0m\u001b[0;34m)\u001b[0m\u001b[0;34m)\u001b[0m\u001b[0;34m\u001b[0m\u001b[0;34m\u001b[0m\u001b[0m\n\u001b[0m\u001b[1;32m    178\u001b[0m         \u001b[0;32melif\u001b[0m \u001b[0mpath\u001b[0m \u001b[0;32mis\u001b[0m \u001b[0;32mnot\u001b[0m \u001b[0;32mNone\u001b[0m\u001b[0;34m:\u001b[0m\u001b[0;34m\u001b[0m\u001b[0;34m\u001b[0m\u001b[0m\n\u001b[1;32m    179\u001b[0m             \u001b[0;32mif\u001b[0m \u001b[0mtype\u001b[0m\u001b[0;34m(\u001b[0m\u001b[0mpath\u001b[0m\u001b[0;34m)\u001b[0m \u001b[0;34m!=\u001b[0m \u001b[0mlist\u001b[0m\u001b[0;34m:\u001b[0m\u001b[0;34m\u001b[0m\u001b[0;34m\u001b[0m\u001b[0m\n",
      "\u001b[0;32m/usr/local/lib/python3.7/dist-packages/py4j/java_gateway.py\u001b[0m in \u001b[0;36m__call__\u001b[0;34m(self, *args)\u001b[0m\n\u001b[1;32m   1320\u001b[0m         \u001b[0manswer\u001b[0m \u001b[0;34m=\u001b[0m \u001b[0mself\u001b[0m\u001b[0;34m.\u001b[0m\u001b[0mgateway_client\u001b[0m\u001b[0;34m.\u001b[0m\u001b[0msend_command\u001b[0m\u001b[0;34m(\u001b[0m\u001b[0mcommand\u001b[0m\u001b[0;34m)\u001b[0m\u001b[0;34m\u001b[0m\u001b[0;34m\u001b[0m\u001b[0m\n\u001b[1;32m   1321\u001b[0m         return_value = get_return_value(\n\u001b[0;32m-> 1322\u001b[0;31m             answer, self.gateway_client, self.target_id, self.name)\n\u001b[0m\u001b[1;32m   1323\u001b[0m \u001b[0;34m\u001b[0m\u001b[0m\n\u001b[1;32m   1324\u001b[0m         \u001b[0;32mfor\u001b[0m \u001b[0mtemp_arg\u001b[0m \u001b[0;32min\u001b[0m \u001b[0mtemp_args\u001b[0m\u001b[0;34m:\u001b[0m\u001b[0;34m\u001b[0m\u001b[0;34m\u001b[0m\u001b[0m\n",
      "\u001b[0;32m/usr/local/lib/python3.7/dist-packages/pyspark/sql/utils.py\u001b[0m in \u001b[0;36mdeco\u001b[0;34m(*a, **kw)\u001b[0m\n\u001b[1;32m    194\u001b[0m                 \u001b[0;31m# Hide where the exception came from that shows a non-Pythonic\u001b[0m\u001b[0;34m\u001b[0m\u001b[0;34m\u001b[0m\u001b[0;34m\u001b[0m\u001b[0m\n\u001b[1;32m    195\u001b[0m                 \u001b[0;31m# JVM exception message.\u001b[0m\u001b[0;34m\u001b[0m\u001b[0;34m\u001b[0m\u001b[0;34m\u001b[0m\u001b[0m\n\u001b[0;32m--> 196\u001b[0;31m                 \u001b[0;32mraise\u001b[0m \u001b[0mconverted\u001b[0m \u001b[0;32mfrom\u001b[0m \u001b[0;32mNone\u001b[0m\u001b[0;34m\u001b[0m\u001b[0;34m\u001b[0m\u001b[0m\n\u001b[0m\u001b[1;32m    197\u001b[0m             \u001b[0;32melse\u001b[0m\u001b[0;34m:\u001b[0m\u001b[0;34m\u001b[0m\u001b[0;34m\u001b[0m\u001b[0m\n\u001b[1;32m    198\u001b[0m                 \u001b[0;32mraise\u001b[0m\u001b[0;34m\u001b[0m\u001b[0;34m\u001b[0m\u001b[0m\n",
      "\u001b[0;31mAnalysisException\u001b[0m: Path does not exist: file:/content/Companies.csv"
     ]
    }
   ],
   "source": [
    "# Load file data & read\n",
    "\n",
    "import pyspark\n",
    "from pyspark.sql import SparkSession\n",
    "\n",
    "spark = SparkSession  \\\n",
    "        .builder \\\n",
    "        .appName(\"Python Spark create RDD example\") \\\n",
    "        .config(\"spark.some.config.option\", \"some-value\") \\\n",
    "        .getOrCreate()\n",
    "df= spark.read.format('csv') .\\\n",
    "                options(header='true', \\\n",
    "                        inferschema = 'true').\\\n",
    "                  load(\"/content/Companies.csv\",header=True)\n",
    "df.show()\n",
    "df.printSchema()\n"
   ]
  },
  {
   "cell_type": "markdown",
   "metadata": {
    "id": "dsrI1z_0YDmC"
   },
   "source": [
    "# New Section"
   ]
  },
  {
   "cell_type": "code",
   "execution_count": null,
   "metadata": {
    "id": "-P4t4qwyWURJ"
   },
   "outputs": [],
   "source": [
    "# Load file data & read\n",
    "\n",
    "import pyspark\n",
    "from pyspark.sql import SparkSession\n",
    "\n",
    "spark = SparkSession \\\n",
    "        .builder \\\n",
    "        .appName(\"Python Spark create RDD example\") \\\n",
    "        .config(\"spark.some.config.option\", \"some-value\") \\\n",
    "        .getOrCreate()\n",
    "df= spark.read.format('csv') .\\\n",
    "                options(header='true', \\\n",
    "                        inferschema = 'true'). \\\n",
    "                  load(\"/content/Spotify_data.csv\",header=True)\n",
    "df.show(10)\n",
    "df.printSchema()"
   ]
  },
  {
   "cell_type": "code",
   "execution_count": null,
   "metadata": {
    "id": "lwyr9SK3WU69"
   },
   "outputs": [],
   "source": [
    "# Pyspark program - one dimensional array\n",
    "\n",
    "import pandas as pd\n",
    "\n",
    "ds = pd.Series([2,4,6,8,9,12,13,15])\n",
    "\n",
    "print(ds)"
   ]
  },
  {
   "cell_type": "code",
   "execution_count": null,
   "metadata": {
    "id": "6jZf-6_AWVHM"
   },
   "outputs": [],
   "source": [
    "# Pyspark - Series operations\n",
    "\n",
    "import pandas as pd\n",
    "ds1 = pd.Series([2,4,6,8,10])\n",
    "ds2 = pd.Series([1,2,3,4,5])\n",
    "print(\"Add two series\")\n",
    "ds = ds1 + ds2\n",
    "print(ds)\n",
    "print(\"Subtract two series\")\n",
    "ds = ds1-ds2\n",
    "print(ds)\n",
    "print(\"Multiply two series\")\n",
    "ds = ds1*ds2\n",
    "print(ds)\n",
    "print(\"Divide two series\")\n",
    "ds = ds1/ds2\n",
    "print(ds)"
   ]
  },
  {
   "cell_type": "code",
   "execution_count": null,
   "metadata": {
    "id": "vrgvS_k-gCsy"
   },
   "outputs": [],
   "source": [
    "x= 7\n",
    "print(x)\n",
    "x=x-4\n",
    "print(x)"
   ]
  },
  {
   "cell_type": "code",
   "execution_count": null,
   "metadata": {
    "id": "FxXsfScxgDDk"
   },
   "outputs": [],
   "source": [
    "import pandas as pd\n",
    "ds1 = pd.Series([2,4,6,8,10])\n",
    "ds2 = pd.Series([1,2,3,4,5])\n",
    "\n",
    "print(\"Series1\")\n",
    "print(ds1)\n",
    "print(\"Series2\")\n",
    "print(ds2)\n",
    "print(\"Compare the element of the said series\")\n",
    "print(\"Equals\")\n",
    "print(ds1==ds2)\n",
    "print(\"Greater Than\")\n",
    "print(ds1>ds2)\n",
    "print(\"Less than\")\n",
    "print(ds1<ds2)"
   ]
  },
  {
   "cell_type": "code",
   "execution_count": null,
   "metadata": {
    "id": "4Mz-npiU9TwW"
   },
   "outputs": [],
   "source": [
    "# programs-----18thjuly"
   ]
  },
  {
   "cell_type": "code",
   "execution_count": null,
   "metadata": {
    "id": "ssrKhTpcjPbD"
   },
   "outputs": [],
   "source": [
    "# Pyspark program - to convert dictionary to series\n",
    "import pandas as pd\n",
    "d1 = {'a':100,'b':200,\"c\":300,'d':400,'e':500}\n",
    "print(\"Original dictionary\")\n",
    "print(d1)\n",
    "new_series = pd.Series(d1)\n",
    "print(\"Converted Series\")\n",
    "print(new_series)"
   ]
  },
  {
   "cell_type": "code",
   "execution_count": null,
   "metadata": {
    "id": "4xiDFY5TjPwP"
   },
   "outputs": [],
   "source": [
    "l =  ['Rohit','Dhawan','Virat'] #my\n",
    "new_l = pd.Series(l)\n",
    "print(new_l)"
   ]
  },
  {
   "cell_type": "code",
   "execution_count": null,
   "metadata": {
    "id": "x6QbAgsbj-L9"
   },
   "outputs": [],
   "source": [
    "l =  {1:'Rohit',2:'Dhawan',3:'Virat'} #my\n",
    "new_l = pd.Series(l)\n",
    "print(new_l)"
   ]
  },
  {
   "cell_type": "code",
   "execution_count": null,
   "metadata": {
    "id": "-vGbvy85kDqD"
   },
   "outputs": [],
   "source": [
    "# Pyspark program - to convert NumPy arrays to series\n",
    "\n",
    "import numpy as np\n",
    "import pandas as pd\n",
    "np_array = np.array([10,20,30,40,50])\n",
    "print(\"NumPy Array:\")\n",
    "print(np_array)\n",
    "new_series = pd.Series(np_array)\n",
    "print(\"Converted Pandas series\")\n",
    "print(new_series)"
   ]
  },
  {
   "cell_type": "code",
   "execution_count": null,
   "metadata": {
    "id": "jAjVJKqIlMPf"
   },
   "outputs": [],
   "source": [
    "# Pyspark program - to convert pandas series to arrays\n",
    "import numpy as np\n",
    "import pandas as pd\n",
    "s1 =  pd.Series([100,200,300,'python',300.70,'400'])\n",
    "print(\"Original data series\")\n",
    "print(s1)\n",
    "print(\"Series to an Array\")\n",
    "a = np.array(s1.values.tolist())\n",
    "print(a)"
   ]
  },
  {
   "cell_type": "code",
   "execution_count": null,
   "metadata": {
    "id": "pLou_-Q0nO84"
   },
   "outputs": [],
   "source": [
    "## Pyspark program - to convert 'series of list' values to 'One series'\n",
    "\n",
    "import pandas as pd\n",
    "s = pd.Series([\n",
    "              ['Red','Green','White'],\n",
    "              ['Red','Black','Blue'],\n",
    "              ['Magenta','Grey']])\n",
    "print(\"Original Series of list\")\n",
    "print(s)\n",
    "s = s.apply(pd.Series).stack().reset_index(drop=True)\n",
    "print(\"One series\")\n",
    "print(s)\n"
   ]
  },
  {
   "cell_type": "code",
   "execution_count": null,
   "metadata": {
    "id": "LTUDq0btqlsB"
   },
   "outputs": [],
   "source": [
    "import pandas as pd #my\n",
    "s = pd.Series([\n",
    "              ['Red','Green','White'],\n",
    "              ['Red','Black','Blue'],\n",
    "              ['Magenta','Grey']])\n",
    "print(\"Original Series of list\")\n",
    "print(s)\n",
    "s = s.apply(pd.Series)\n",
    "print(\"One series\")\n",
    "print(s)"
   ]
  },
  {
   "cell_type": "code",
   "execution_count": null,
   "metadata": {
    "id": "VaTAJhn5sdoV"
   },
   "outputs": [],
   "source": [
    "import pandas as pd #my\n",
    "s = pd.Series([\n",
    "              ['Red','Green','White'],\n",
    "              ['Red','Black','Blue'],\n",
    "              ['Magenta','Grey']])\n",
    "print(\"Original Series of list\")\n",
    "print(s)\n",
    "s = s.apply(pd.Series).stack().reset_index()\n",
    "print(\"One series\")\n",
    "print(s)"
   ]
  },
  {
   "cell_type": "code",
   "execution_count": null,
   "metadata": {
    "id": "BWMh9Jb-sg16"
   },
   "outputs": [],
   "source": [
    "import pandas as pd #my\n",
    "s = pd.Series([\n",
    "              [1,'Green','White'],\n",
    "              ['Red','Black','Blue'],\n",
    "              ['Magenta','Grey']])\n",
    "print(\"Original Series of list\")\n",
    "print(s)\n",
    "s = s.apply(pd.Series).stack()\n",
    "print(\"One series\")\n",
    "print(s)"
   ]
  },
  {
   "cell_type": "code",
   "execution_count": null,
   "metadata": {
    "id": "MRN9Bf48smZJ"
   },
   "outputs": [],
   "source": [
    "# sort the series\n",
    "\n",
    "import pandas as pd\n",
    "s = pd.Series(['100','200','pyth','300.12','400','python1','python','python2'])\n",
    "print(\"Origina; data series\")\n",
    "print(s)\n",
    "new_s = pd.Series(s).sort_values()\n",
    "print(\"sorted series\")\n",
    "print(new_s)"
   ]
  },
  {
   "cell_type": "code",
   "execution_count": null,
   "metadata": {
    "id": "VNWnMWxFwErm"
   },
   "outputs": [],
   "source": [
    "# sorting values\n",
    "\n",
    "import pandas as pd\n",
    "s = pd.Series(['100','pyspark','200','pyth','300.12','400','python1','python','python2','1'])\n",
    "print(\"Origina; data series\")\n",
    "print(s)\n",
    "new_s = pd.Series(s).sort_values()\n",
    "print(\"sorted series\")\n",
    "print(new_s)"
   ]
  },
  {
   "cell_type": "code",
   "execution_count": null,
   "metadata": {
    "id": "QrevSfUmma36"
   },
   "outputs": [],
   "source": [
    "# sorting values in descending order\n",
    "\n",
    "import pandas as pd\n",
    "s = pd.Series(['100','pyspark','200','pyth','300.12','400','python1','python','python2','1'])\n",
    "print(\"Origina; data series\")\n",
    "print(s)\n",
    "new_s = pd.Series(s).sort_values(ascending=False)\n",
    "print(\"sorted series\")\n",
    "print(new_s)"
   ]
  },
  {
   "cell_type": "code",
   "execution_count": null,
   "metadata": {
    "id": "doBMmCmhwMzG"
   },
   "outputs": [],
   "source": [
    "# Pyspark - change the order of the index of given series\n",
    "\n",
    "import pandas as pd\n",
    "s = pd.Series(data = [1,2,3,4,5], index = ['A','B','C','D','E'])\n",
    "print(\"Original data series\")\n",
    "print(s)\n",
    "s =  s.reindex(index = ['C','B','D',\"A\",'E'])\n",
    "print(\"Data series after re-indexing\")\n",
    "print(s)"
   ]
  },
  {
   "cell_type": "code",
   "execution_count": null,
   "metadata": {
    "id": "YWDoUszgyjiG"
   },
   "outputs": [],
   "source": [
    "\n",
    "import pandas as pd\n",
    "s = pd.Series(data = [1,2,3,4,5], index = ['A','B','C','D','E'])\n",
    "print(\"Original data series\")\n",
    "print(s)\n",
    "s.reindex(index = ['C','B','D',\"A\",'E'])\n",
    "print(\"Data series after re-indexing\")\n",
    "s"
   ]
  },
  {
   "cell_type": "code",
   "execution_count": null,
   "metadata": {
    "colab": {
     "base_uri": "https://localhost:8080/"
    },
    "id": "ldD6IBqKyjyc",
    "outputId": "86013cd2-71ff-463b-9572-15d4ad42caa3"
   },
   "outputs": [
    {
     "name": "stdout",
     "output_type": "stream",
     "text": [
      "Original Series\n",
      "0    11.331587\n",
      "1    10.715279\n",
      "2     8.454600\n",
      "3     9.991616\n",
      "4    10.621336\n",
      "5     9.279914\n",
      "6    10.265512\n",
      "7    10.108549\n",
      "8    10.004291\n",
      "9     9.825400\n",
      "dtype: float64\n",
      "\n",
      "Minimum, 25th percentile, median, 75th , and Maximum of given series:\n",
      "[ 8.45459971  9.86695388 10.05641998 10.53237988 11.3315865 ]\n"
     ]
    }
   ],
   "source": [
    "## Pyspark - compute percentile and max values of given series\n",
    "\n",
    "import pandas as pd\n",
    "import numpy as np\n",
    "num_state = np.random.RandomState(10)\n",
    "num_series = pd.Series(num_state.normal(10,1,10))\n",
    "print(\"Original Series\")\n",
    "print(num_series)\n",
    "result = np.percentile(num_series, q=[0,25,50,75,100])\n",
    "print(\"\\nMinimum, 25th percentile, median, 75th , and Maximum of given series:\")\n",
    "print(result)"
   ]
  },
  {
   "cell_type": "code",
   "execution_count": null,
   "metadata": {
    "colab": {
     "base_uri": "https://localhost:8080/"
    },
    "id": "S1PRO1FOyQHa",
    "outputId": "bc079d38-227f-4e55-f583-0ad391f099bc"
   },
   "outputs": [
    {
     "name": "stdout",
     "output_type": "stream",
     "text": [
      "original series\n",
      "0     1\n",
      "1     2\n",
      "2     3\n",
      "3     4\n",
      "4     5\n",
      "5     6\n",
      "6     7\n",
      "7     8\n",
      "8     9\n",
      "9    10\n",
      "dtype: int64\n",
      "0     1\n",
      "1     3\n",
      "2     5\n",
      "3     7\n",
      "4    10\n",
      "dtype: int64\n",
      "Positions of items of series2 in series1\n",
      "[0, 2, 4, 6, 9]\n"
     ]
    }
   ],
   "source": [
    "#Pyspark getting positions of givn series\n",
    "\n",
    "import pandas as pd\n",
    "series1 = pd.Series([1,2,3,4,5,6,7,8,9,10])\n",
    "series2 = pd.Series([1,3,5,7,10])\n",
    "print(\"original series\")\n",
    "print(series1)\n",
    "print(series2)\n",
    "result = [pd.Index(series1).get_loc(i) for i in series2]\n",
    "print(\"Positions of items of series2 in series1\")\n",
    "print(result)"
   ]
  },
  {
   "cell_type": "code",
   "execution_count": null,
   "metadata": {
    "id": "KOhqe53hHmAj"
   },
   "outputs": [],
   "source": [
    "#pyspark - program to select specific range\n",
    "\n",
    "import pandas as pd\n",
    "import numpy as np\n",
    "\n",
    "exam_data = {'name' : ['Anderson', 'Dima','Katherine','James','Emily',\n",
    "                      'Michael','Mathew','Laura','Kevin','Jonas'],\n",
    "              'score' : [12.5,9,16.5, np.nan,9,20,14.5,np.nan, 8,9],\n",
    "              'attempts':[1,3,2,5,1,1,2,1,1,2],\n",
    "              'qualified':['yes','no','no','no','yes','yes','no','yes','yes','no']}\n",
    "\n",
    "labels = ['a','b','c','d','e','f','g','h','i','j']\n",
    "\n",
    "df = pd.DataFrame(exam_data, index=labels)\n",
    "print(\"Rows where score between 15 and 20 ( inclusive):\")\n",
    "print(df[df['score'].between(15,20)])"
   ]
  },
  {
   "cell_type": "code",
   "execution_count": null,
   "metadata": {
    "id": "bCgDMR59KbU1"
   },
   "outputs": [],
   "source": [
    "import pandas as pd\n",
    "import numpy as np\n",
    "\n",
    "exam_data = {'name' : ['Anderson', 'Dima','Katherine','James','Emily',\n",
    "                      'Michael','Mathew','Laura','Kevin','Jonas'],\n",
    "              'score' : [12.5,9,16.5, np.nan,9,20,14.5,np.nan, 8,9],\n",
    "              'attempts':[1,3,2,5,1,1,2,1,1,2],\n",
    "              'qualified':['yes','no','no','no','yes','yes','no','yes','yes','no']}\n",
    "\n",
    "labels = ['a','b','c','d','e','f','g','h','i','j']\n",
    "\n",
    "df = pd.DataFrame(exam_data, index=labels)\n",
    "print(\"Mean score for each different student\")\n",
    "print(df['score'].mean())\n",
    "\n",
    "print(\"\\nMean score for each different student: Method2\")\n",
    "\n",
    "print(df.score.mean())\n",
    "\n"
   ]
  },
  {
   "cell_type": "code",
   "execution_count": null,
   "metadata": {
    "colab": {
     "base_uri": "https://localhost:8080/",
     "height": 675
    },
    "id": "toDKRIb_iZLf",
    "outputId": "42f862eb-f0a1-450b-9d29-5d015819b1f2"
   },
   "outputs": [
    {
     "name": "stdout",
     "output_type": "stream",
     "text": [
      "Original list\n",
      "   col1  col2  col3\n",
      "0     1     4     7\n",
      "1     4     5     8\n",
      "2     5     6     9\n",
      "3     6     7    11\n",
      "4     7     8    12\n",
      "5    10    20    12\n",
      "\n",
      "Change name from James to Suresh\n"
     ]
    },
    {
     "ename": "KeyError",
     "evalue": "ignored",
     "output_type": "error",
     "traceback": [
      "\u001b[0;31m---------------------------------------------------------------------------\u001b[0m",
      "\u001b[0;31mKeyError\u001b[0m                                  Traceback (most recent call last)",
      "\u001b[0;32m/usr/local/lib/python3.7/dist-packages/pandas/core/indexes/base.py\u001b[0m in \u001b[0;36mget_loc\u001b[0;34m(self, key, method, tolerance)\u001b[0m\n\u001b[1;32m   3360\u001b[0m             \u001b[0;32mtry\u001b[0m\u001b[0;34m:\u001b[0m\u001b[0;34m\u001b[0m\u001b[0;34m\u001b[0m\u001b[0m\n\u001b[0;32m-> 3361\u001b[0;31m                 \u001b[0;32mreturn\u001b[0m \u001b[0mself\u001b[0m\u001b[0;34m.\u001b[0m\u001b[0m_engine\u001b[0m\u001b[0;34m.\u001b[0m\u001b[0mget_loc\u001b[0m\u001b[0;34m(\u001b[0m\u001b[0mcasted_key\u001b[0m\u001b[0;34m)\u001b[0m\u001b[0;34m\u001b[0m\u001b[0;34m\u001b[0m\u001b[0m\n\u001b[0m\u001b[1;32m   3362\u001b[0m             \u001b[0;32mexcept\u001b[0m \u001b[0mKeyError\u001b[0m \u001b[0;32mas\u001b[0m \u001b[0merr\u001b[0m\u001b[0;34m:\u001b[0m\u001b[0;34m\u001b[0m\u001b[0;34m\u001b[0m\u001b[0m\n",
      "\u001b[0;32m/usr/local/lib/python3.7/dist-packages/pandas/_libs/index.pyx\u001b[0m in \u001b[0;36mpandas._libs.index.IndexEngine.get_loc\u001b[0;34m()\u001b[0m\n",
      "\u001b[0;32m/usr/local/lib/python3.7/dist-packages/pandas/_libs/index.pyx\u001b[0m in \u001b[0;36mpandas._libs.index.IndexEngine.get_loc\u001b[0;34m()\u001b[0m\n",
      "\u001b[0;32mpandas/_libs/hashtable_class_helper.pxi\u001b[0m in \u001b[0;36mpandas._libs.hashtable.PyObjectHashTable.get_item\u001b[0;34m()\u001b[0m\n",
      "\u001b[0;32mpandas/_libs/hashtable_class_helper.pxi\u001b[0m in \u001b[0;36mpandas._libs.hashtable.PyObjectHashTable.get_item\u001b[0;34m()\u001b[0m\n",
      "\u001b[0;31mKeyError\u001b[0m: 'name'",
      "\nThe above exception was the direct cause of the following exception:\n",
      "\u001b[0;31mKeyError\u001b[0m                                  Traceback (most recent call last)",
      "\u001b[0;32m<ipython-input-41-c108805bb43d>\u001b[0m in \u001b[0;36m<module>\u001b[0;34m()\u001b[0m\n\u001b[1;32m      3\u001b[0m \u001b[0;34m\u001b[0m\u001b[0m\n\u001b[1;32m      4\u001b[0m \u001b[0mprint\u001b[0m\u001b[0;34m(\u001b[0m\u001b[0;34m\"\\nChange name from James to Suresh\"\u001b[0m\u001b[0;34m)\u001b[0m\u001b[0;34m\u001b[0m\u001b[0;34m\u001b[0m\u001b[0m\n\u001b[0;32m----> 5\u001b[0;31m \u001b[0mdf\u001b[0m\u001b[0;34m[\u001b[0m\u001b[0;34m'name'\u001b[0m\u001b[0;34m]\u001b[0m \u001b[0;34m=\u001b[0m \u001b[0mdf\u001b[0m\u001b[0;34m[\u001b[0m\u001b[0;34m'name'\u001b[0m\u001b[0;34m]\u001b[0m\u001b[0;34m.\u001b[0m\u001b[0mreplace\u001b[0m\u001b[0;34m(\u001b[0m\u001b[0;34m'James'\u001b[0m\u001b[0;34m,\u001b[0m\u001b[0;34m'Suresh'\u001b[0m\u001b[0;34m)\u001b[0m\u001b[0;34m\u001b[0m\u001b[0;34m\u001b[0m\u001b[0m\n\u001b[0m\u001b[1;32m      6\u001b[0m \u001b[0mprint\u001b[0m\u001b[0;34m(\u001b[0m\u001b[0mdf\u001b[0m\u001b[0;34m)\u001b[0m\u001b[0;34m\u001b[0m\u001b[0;34m\u001b[0m\u001b[0m\n",
      "\u001b[0;32m/usr/local/lib/python3.7/dist-packages/pandas/core/frame.py\u001b[0m in \u001b[0;36m__getitem__\u001b[0;34m(self, key)\u001b[0m\n\u001b[1;32m   3456\u001b[0m             \u001b[0;32mif\u001b[0m \u001b[0mself\u001b[0m\u001b[0;34m.\u001b[0m\u001b[0mcolumns\u001b[0m\u001b[0;34m.\u001b[0m\u001b[0mnlevels\u001b[0m \u001b[0;34m>\u001b[0m \u001b[0;36m1\u001b[0m\u001b[0;34m:\u001b[0m\u001b[0;34m\u001b[0m\u001b[0;34m\u001b[0m\u001b[0m\n\u001b[1;32m   3457\u001b[0m                 \u001b[0;32mreturn\u001b[0m \u001b[0mself\u001b[0m\u001b[0;34m.\u001b[0m\u001b[0m_getitem_multilevel\u001b[0m\u001b[0;34m(\u001b[0m\u001b[0mkey\u001b[0m\u001b[0;34m)\u001b[0m\u001b[0;34m\u001b[0m\u001b[0;34m\u001b[0m\u001b[0m\n\u001b[0;32m-> 3458\u001b[0;31m             \u001b[0mindexer\u001b[0m \u001b[0;34m=\u001b[0m \u001b[0mself\u001b[0m\u001b[0;34m.\u001b[0m\u001b[0mcolumns\u001b[0m\u001b[0;34m.\u001b[0m\u001b[0mget_loc\u001b[0m\u001b[0;34m(\u001b[0m\u001b[0mkey\u001b[0m\u001b[0;34m)\u001b[0m\u001b[0;34m\u001b[0m\u001b[0;34m\u001b[0m\u001b[0m\n\u001b[0m\u001b[1;32m   3459\u001b[0m             \u001b[0;32mif\u001b[0m \u001b[0mis_integer\u001b[0m\u001b[0;34m(\u001b[0m\u001b[0mindexer\u001b[0m\u001b[0;34m)\u001b[0m\u001b[0;34m:\u001b[0m\u001b[0;34m\u001b[0m\u001b[0;34m\u001b[0m\u001b[0m\n\u001b[1;32m   3460\u001b[0m                 \u001b[0mindexer\u001b[0m \u001b[0;34m=\u001b[0m \u001b[0;34m[\u001b[0m\u001b[0mindexer\u001b[0m\u001b[0;34m]\u001b[0m\u001b[0;34m\u001b[0m\u001b[0;34m\u001b[0m\u001b[0m\n",
      "\u001b[0;32m/usr/local/lib/python3.7/dist-packages/pandas/core/indexes/base.py\u001b[0m in \u001b[0;36mget_loc\u001b[0;34m(self, key, method, tolerance)\u001b[0m\n\u001b[1;32m   3361\u001b[0m                 \u001b[0;32mreturn\u001b[0m \u001b[0mself\u001b[0m\u001b[0;34m.\u001b[0m\u001b[0m_engine\u001b[0m\u001b[0;34m.\u001b[0m\u001b[0mget_loc\u001b[0m\u001b[0;34m(\u001b[0m\u001b[0mcasted_key\u001b[0m\u001b[0;34m)\u001b[0m\u001b[0;34m\u001b[0m\u001b[0;34m\u001b[0m\u001b[0m\n\u001b[1;32m   3362\u001b[0m             \u001b[0;32mexcept\u001b[0m \u001b[0mKeyError\u001b[0m \u001b[0;32mas\u001b[0m \u001b[0merr\u001b[0m\u001b[0;34m:\u001b[0m\u001b[0;34m\u001b[0m\u001b[0;34m\u001b[0m\u001b[0m\n\u001b[0;32m-> 3363\u001b[0;31m                 \u001b[0;32mraise\u001b[0m \u001b[0mKeyError\u001b[0m\u001b[0;34m(\u001b[0m\u001b[0mkey\u001b[0m\u001b[0;34m)\u001b[0m \u001b[0;32mfrom\u001b[0m \u001b[0merr\u001b[0m\u001b[0;34m\u001b[0m\u001b[0;34m\u001b[0m\u001b[0m\n\u001b[0m\u001b[1;32m   3364\u001b[0m \u001b[0;34m\u001b[0m\u001b[0m\n\u001b[1;32m   3365\u001b[0m         \u001b[0;32mif\u001b[0m \u001b[0mis_scalar\u001b[0m\u001b[0;34m(\u001b[0m\u001b[0mkey\u001b[0m\u001b[0;34m)\u001b[0m \u001b[0;32mand\u001b[0m \u001b[0misna\u001b[0m\u001b[0;34m(\u001b[0m\u001b[0mkey\u001b[0m\u001b[0;34m)\u001b[0m \u001b[0;32mand\u001b[0m \u001b[0;32mnot\u001b[0m \u001b[0mself\u001b[0m\u001b[0;34m.\u001b[0m\u001b[0mhasnans\u001b[0m\u001b[0;34m:\u001b[0m\u001b[0;34m\u001b[0m\u001b[0;34m\u001b[0m\u001b[0m\n",
      "\u001b[0;31mKeyError\u001b[0m: 'name'"
     ]
    }
   ],
   "source": [
    "print(\"Original list\")\n",
    "print(df)\n",
    "\n",
    "print(\"\\nChange name from James to Suresh\")\n",
    "df['name'] = df['name'].replace('James','Suresh')\n",
    "print(df)"
   ]
  },
  {
   "cell_type": "code",
   "execution_count": null,
   "metadata": {
    "colab": {
     "base_uri": "https://localhost:8080/"
    },
    "id": "YoK5ywd9iZdS",
    "outputId": "0eb249d7-8ea9-4d2e-cf9a-448d27b8f34b"
   },
   "outputs": [
    {
     "name": "stdout",
     "output_type": "stream",
     "text": [
      "Original DataFrame\n",
      "   col1  col2  col3\n",
      "a     1     4     7\n",
      "b     4     5     8\n",
      "c     5     6     9\n",
      "d     6     7    11\n",
      "e     7     8    12\n",
      "After adding one row:\n",
      "   col1  col2  col3\n",
      "0     1     4     7\n",
      "1     4     5     8\n",
      "2     5     6     9\n",
      "3     6     7    11\n",
      "4     7     8    12\n",
      "5    10    20    12\n"
     ]
    }
   ],
   "source": [
    "# Pyspark - adding extra one row in an existing dataframe\n",
    "\n",
    "import numpy as np\n",
    "import pandas as pd\n",
    "d = {'col1':[1,4,5,6,7], 'col2': [4,5,6,7,8], 'col3':[7,8,9,11,12]}\n",
    "labels=['a','b','c','d','e']\n",
    "df = pd.DataFrame(data=d, index=labels)\n",
    "print(\"Original DataFrame\")\n",
    "print(df)\n",
    "print(\"After adding one row:\")\n",
    "df2 = {'col1':10,'col2':20,'col3':12}\n",
    "df = df.append(df2,ignore_index =  True)\n",
    "print(df)"
   ]
  },
  {
   "cell_type": "code",
   "execution_count": null,
   "metadata": {
    "colab": {
     "base_uri": "https://localhost:8080/"
    },
    "id": "yKHhtp2tiZui",
    "outputId": "e9c9129f-f24e-4dcc-9efc-2cbdbedc56b3"
   },
   "outputs": [
    {
     "name": "stdout",
     "output_type": "stream",
     "text": [
      "Original DataFrame\n",
      "   col1  col2  col3\n",
      "a     1     4     7\n",
      "b     4     5     8\n",
      "c     5     6     9\n",
      "d     6     7    11\n",
      "e     7     8    12\n",
      "col4 isnot present in DataFrame\n",
      "col1 is present in DataFrame\n"
     ]
    }
   ],
   "source": [
    "# Pyspark - checking whether column is existing in the given dataframe or not?\n",
    "\n",
    "import pandas as pd\n",
    "\n",
    "d = {'col1':[1,4,5,6,7], 'col2': [4,5,6,7,8], 'col3':[7,8,9,11,12]}\n",
    "labels=['a','b','c','d','e']\n",
    "df = pd.DataFrame(data=d, index=labels)\n",
    "print(\"Original DataFrame\")\n",
    "print(df)\n",
    "\n",
    "if 'col4' in df.columns:\n",
    "  print(\"col4 is present in DataFrame\")\n",
    "else:\n",
    "  print(\"col4 isnot present in DataFrame\")\n",
    "\n",
    "if 'col1' in df.columns:\n",
    "  print(\"col1 is present in DataFrame\")\n",
    "else:\n",
    "  print(\"col1 is not present in DataFrame\")\n",
    "\n",
    "\n",
    "\n",
    "\n"
   ]
  },
  {
   "cell_type": "code",
   "execution_count": null,
   "metadata": {
    "id": "h0RbIocXiZ9u"
   },
   "outputs": [],
   "source": [
    "#Pyspark - display default index & printing new index using pandas\n",
    "\n",
    "import pandas as pd\n",
    "df = pd.DataFrame({\n",
    "     'school_code': ['s001','s002','s003','s004','s005','s006'],\n",
    "     'class' : ['V','VI','VII','VIII','IV','v'],\n",
    "     'name': ['Alberto Franco','Ryan Ints School','BishopCotton','Stone hill','DavidParkes','Govt School']\n",
    "})\n",
    "\n",
    "print(\"default Index\")\n",
    "print(df)\n",
    "print(\"\\nSchool code with new Index\")\n",
    "df1 = df.set_index('school_code')\n",
    "print(df1)\n"
   ]
  },
  {
   "cell_type": "code",
   "execution_count": null,
   "metadata": {
    "id": "mRdHAQeeiaN1"
   },
   "outputs": [],
   "source": [
    "import pandas as pd\n",
    "labels = ['a','b','c','d','e','f']\n",
    "df = pd.DataFrame({\n",
    "     'school_code': ['s001','s002','s003','s004','s005','s006'],\n",
    "     'class' : ['V','VI','VII','VIII','IV','v'],\n",
    "     'name': ['Alberto Franco','Ryan Ints School','BishopCotton','Stone hill','DavidParkes','Govt School']\n",
    "},index=labels)\n",
    "\n",
    "print(\"default Index\")\n",
    "print(df)\n",
    "print(\"\\nSchool code with new Index\")\n",
    "df1 = df.set_index('school_code')\n",
    "print(df1)\n"
   ]
  },
  {
   "cell_type": "code",
   "execution_count": null,
   "metadata": {
    "id": "MNi-dqIuiae2"
   },
   "outputs": [],
   "source": [
    "import pandas as pd\n",
    "print(\"Create an Int64Index\")\n",
    "df_i64 = pd.DataFrame({\n",
    "     'school_code': ['s001','s002','s003','s004','s005','s006'],\n",
    "     'class' : ['V','VI','VII','VIII','IV','v'],\n",
    "     'name': ['Alberto Franco','Ryan Ints School','BishopCotton','Stone hill','DavidParkes','Govt School']\n",
    "})\n",
    "index =  [0.1,0.2,0.3,0.4,0.5,0.6]\n",
    "print(df_i64)\n",
    "print(\"\\nView the Index\")\n",
    "print(df_i64.index)\n",
    "\n",
    "\n"
   ]
  },
  {
   "cell_type": "code",
   "execution_count": null,
   "metadata": {
    "id": "LJD7LirhiavE"
   },
   "outputs": [],
   "source": [
    "import pandas as pd\n",
    "print(\"Create an Int64Index\")\n",
    "df_i64 = pd.DataFrame({\n",
    "     'school_code': ['s001','s002','s003','s004','s005','s006'],\n",
    "     'class' : ['V','VI','VII','VIII','IV','v'],\n",
    "     'name': ['Alberto Franco','Ryan Ints School','BishopCotton','Stone hill','DavidParkes','Govt School']\n",
    "})\n",
    "index =  [0.1,0.2,0.3,0.4,0.5,0.6]\n",
    "print(df_i64)\n",
    "print(\"\\nView the Index\")\n",
    "print(df_i64.index)\n",
    "print(\"\\nFloating-point lables using Float64 Index\")\n",
    "df_f64 = pd.DataFrame({\n",
    "     'school_code': ['s001','s002','s003','s004','s005','s006'],\n",
    "     'class' : ['V','VI','VII','VIII','IV','v'],\n",
    "     'name': ['Alberto Franco','Ryan Ints School','BishopCotton','Stone hill','DavidParkes','Govt School']\n",
    "},index =  [0.1,0.2,0.3,0.4,0.5,0.6])\n",
    "print(df_f64)\n",
    "print(\"\\nView the Index\")\n",
    "print(df_f64.index)"
   ]
  },
  {
   "cell_type": "code",
   "execution_count": null,
   "metadata": {
    "id": "HH7DITPnia_P"
   },
   "outputs": [],
   "source": [
    "num_state.normal()"
   ]
  },
  {
   "cell_type": "code",
   "execution_count": null,
   "metadata": {
    "id": "WeNVhRziKbqW"
   },
   "outputs": [],
   "source": [
    "# Assignment"
   ]
  },
  {
   "cell_type": "code",
   "execution_count": null,
   "metadata": {
    "id": "tTHFCoYCF__A"
   },
   "outputs": [],
   "source": [
    "1. Write a pyspark program -  get the index of an element of a given Series.\n",
    "and attach the output screenshots"
   ]
  },
  {
   "cell_type": "code",
   "execution_count": null,
   "metadata": {
    "id": "SXm7lUzOGAJq"
   },
   "outputs": [],
   "source": [
    "import pandas as pd\n",
    "labels = ['s1','s2','s3','s4','s5','s6','s7','s8','s9','s10']\n",
    "series1 = pd.Series([1,2,3,4,5,6,7,8,9,10],index=labels)\n",
    "print(series1)\n",
    "print(series1.index)"
   ]
  },
  {
   "cell_type": "code",
   "execution_count": null,
   "metadata": {
    "id": "DFmxObLsHDFv"
   },
   "outputs": [],
   "source": [
    "2.Write a pyspark program to print a DataFrame without index.\n",
    "and attach the output screenshots"
   ]
  },
  {
   "cell_type": "code",
   "execution_count": null,
   "metadata": {
    "id": "JURqylMxHDRq"
   },
   "outputs": [],
   "source": [
    "# Import SparkSession - entry point to Spark\n",
    "from pyspark.sql import SparkSession\n",
    "\n",
    "#Create SparkSession\n",
    "spark = SparkSession.builder.getOrCreate()\n",
    "\n",
    "#creating dataframe from a list of data\n",
    "players = spark.createDataFrame([\n",
    "                ('101','Virat','RCB','Batsman'),\n",
    "                ('102','Jadeja','CSK','All-rounder'),\n",
    "                ('103','Bumrah','MI','Bowler'),\n",
    "                ('104','KL.Rahul','LSG','Batsman'),\n",
    "                ('105','Russel','KKR','All-rounder'),\n",
    "                ('106','Cummins','KKR','Bowler')],\n",
    "    ['SL.No', 'Name', 'Team', 'Role']\n",
    ")\n",
    "\n",
    "players.show()"
   ]
  },
  {
   "cell_type": "code",
   "execution_count": null,
   "metadata": {
    "id": "E4nW_szwHDcV"
   },
   "outputs": [],
   "source": [
    "3.Write a PySpark program to change the name 'James' to 'Ramesh' then print the result, later change \n",
    "name 'Ramesh' to 'Ganesh'in name column of the data frame.\n",
    "Sample DataFrame:\n",
    "exam_data = {'name': ['Anastasia', 'Dima', 'Katherine', 'James', 'Emily', 'Michael', 'Matthew', 'Laura', 'Kevin', 'Jonas'],\n",
    "'score': [12.5, 9, 16.5, np.nan, 9, 20, 14.5, np.nan, 8, 19],\n",
    "'attempts': [1, 3, 2, 3, 2, 3, 1, 1, 2, 1],\n",
    "'qualify': ['yes', 'no', 'yes', 'no', 'no', 'yes', 'yes', 'no', 'no', 'yes']}\n",
    "labels = ['a', 'b', 'c', 'd', 'e', 'f', 'g', 'h', 'i', 'j']"
   ]
  },
  {
   "cell_type": "code",
   "execution_count": null,
   "metadata": {
    "id": "XVGj_BbUGATF"
   },
   "outputs": [],
   "source": [
    "#import Pandas library\n",
    "\n",
    "import pandas as pd\n",
    "\n",
    "#import Numpy library\n",
    "\n",
    "import numpy as np\n",
    "\n",
    "#data\n",
    "exam_data =  {'name': ['Anastasia', 'Dima', 'Katherine', 'James', 'Emily', 'Michael', 'Matthew', 'Laura', 'Kevin', 'Jonas'],\n",
    "              'score': [12.5, 9, 16.5, np.nan, 9, 20, 14.5, np.nan, 8, 19],\n",
    "              'attempts': [1, 3, 2, 3, 2, 3, 1, 1, 2, 1],\n",
    "              'qualify': ['yes', 'no', 'yes', 'no', 'no', 'yes', 'yes', 'no', 'no', 'yes']}\n",
    "\n",
    "#label name\n",
    "labels = ['a','b','c','d','e','f','g','h','i','j']\n",
    "\n",
    "#creating dataframe\n",
    "df = pd.DataFrame(exam_data, index=labels)\n",
    "\n",
    "print(\"Original list\")\n",
    "print(df)\n",
    "\n",
    "# Changing names\n",
    "print(\"\\nChange name from James to Suresh\\n\")\n",
    "df['name'] = df['name'].replace('James','Ramesh')\n",
    "print(df)\n",
    "\n",
    "print(\"\\nChange name from Ramesh to Ganesh\\n\")\n",
    "df['name'] = df['name'].replace('Ramesh','Ganesh')\n",
    "print(df)\n"
   ]
  },
  {
   "cell_type": "code",
   "execution_count": null,
   "metadata": {
    "id": "yRlCWfTGTZI3"
   },
   "outputs": [],
   "source": [
    " 4.Write a PySpark program to select the rows the score is between 15 and 20 (inclusive).\n",
    "Sample DataFrame:\n",
    "Sample Python dictionary data and list labels:\n",
    "exam_data = {'name': ['Anastasia', 'Dima', 'Katherine', 'James', 'Emily', 'Michael', 'Matthew', 'Laura', 'Kevin', 'Jonas'],\n",
    "'score': [12.5, 9, 16.5, np.nan, 9, 20, 14.5, np.nan, 8, 19],\n",
    "'attempts': [1, 3, 2, 3, 2, 3, 1, 1, 2, 1],\n",
    "'qualify': ['yes', 'no', 'yes', 'no', 'no', 'yes', 'yes', 'no', 'no', 'yes']}\n",
    "labels = ['a', 'b', 'c', 'd', 'e', 'f', 'g', 'h', 'i', 'j']"
   ]
  },
  {
   "cell_type": "code",
   "execution_count": null,
   "metadata": {
    "id": "0R8pojJmU-YD"
   },
   "outputs": [],
   "source": [
    "#pyspark - program to select specific range\n",
    "\n",
    "import pandas as pd\n",
    "import numpy as np\n",
    "\n",
    "exam_data = {'name' : ['Anastasia', 'Dima','Katherine','James','Emily',\n",
    "                      'Michael','Mathew','Laura','Kevin','Jonas'],\n",
    "              'score' : [12.5, 9, 16.5, np.nan, 9, 20, 14.5, np.nan, 8, 19],\n",
    "              'attempts':[1, 3, 2, 3, 2, 3, 1, 1, 2, 1],\n",
    "              'qualified':['yes', 'no', 'yes', 'no', 'no', 'yes', 'yes', 'no', 'no', 'yes']}\n",
    "\n",
    "labels = ['a', 'b', 'c', 'd', 'e', 'f', 'g', 'h', 'i', 'j']\n",
    "\n",
    "df = pd.DataFrame(exam_data, index=labels)\n",
    "print(\"Rows where score between 15 and 20 ( inclusive):\")\n",
    "print(df[df['score'].between(15,20)])"
   ]
  },
  {
   "cell_type": "code",
   "execution_count": null,
   "metadata": {
    "id": "UlhN6o2WU-l0"
   },
   "outputs": [],
   "source": [
    "5. Write a PySpark program convert the first and last character of each word to upper case in each word of a given series.\n",
    "sampleseries = pd.Series(['Suresh', 'ganesh', 'mahesh', 'Sudarshan'])"
   ]
  },
  {
   "cell_type": "code",
   "execution_count": null,
   "metadata": {
    "id": "_NJ5Z0i1U-xX"
   },
   "outputs": [],
   "source": [
    "import pandas as pd\n",
    "\n",
    "#sampleseries is provided\n",
    "sampleseries = pd.Series(['Suresh', 'ganesh', 'mahesh', 'Sudarshan'])\n",
    "print(\"Original Series:\")\n",
    "print(sampleseries)\n",
    "result = sampleseries.map(lambda x: x[0].upper() + x[1:-1] + x[-1].upper())\n",
    "print(\"\\nFirst and last character of each word to upper case:\")\n",
    "print(result)"
   ]
  },
  {
   "cell_type": "markdown",
   "metadata": {
    "id": "XeApiXF93q_U"
   },
   "source": []
  },
  {
   "cell_type": "code",
   "execution_count": null,
   "metadata": {
    "id": "mApWrx_OYHcO"
   },
   "outputs": [],
   "source": [
    "#--- 19thjuly"
   ]
  },
  {
   "cell_type": "code",
   "execution_count": null,
   "metadata": {
    "id": "9k2uMn_J3nPB"
   },
   "outputs": [],
   "source": [
    "# Pyspark - program to get the index of an element of a given series\n",
    "\n",
    "import pandas as pd\n",
    "ds = pd.Series([1,3,4,5,6,7,8,10],index=[0,1,2,3,4,5,6,7])\n",
    "print(\"The series\\n\")\n",
    "print(ds)\n",
    "print(\"\\nIndex of the given number\")\n",
    "x =  ds[ds == 1].index[0]\n",
    "print(x)\n"
   ]
  },
  {
   "cell_type": "code",
   "execution_count": null,
   "metadata": {
    "id": "s5tOIRlbqKHx"
   },
   "outputs": [],
   "source": [
    "# Pyspark program - to convert all string values to upper, lower cases in a given pandas series also find the length of the \\\n",
    "# string values\n",
    "sampleseries = pd.Series(['Suresh', 'ganesh', 'mahesh', 'Sudarshan'])\n",
    "len_of_str = sampleseries.map(lambda x : len(x))\n",
    "print(len_of_str)\n",
    "\n",
    "\n",
    "\n",
    "\n"
   ]
  },
  {
   "cell_type": "code",
   "execution_count": null,
   "metadata": {
    "id": "mVHchptUvuR9"
   },
   "outputs": [],
   "source": [
    "import pandas as pd\n",
    "import numpy as np\n",
    "\n",
    "s = pd.Series(['X',\"Y\",'Z','Aaba','Baca',np.nan,'CA',None,'horse','bird','mouse','leopard'])\n",
    "\n",
    "print(\"Original series\")\n",
    "print(s)\n",
    "\n",
    "print(\"\\nConvert all string values of the said series to upper case\")\n",
    "print(s.str.upper())\n",
    "\n",
    "print(\"\\nConvert all string values of the said series to lower case\")\n",
    "print(s.str.lower())\n",
    "\n",
    "print(\"\\nLength of the string values\")\n",
    "print(s.str.len())\n",
    "\n",
    "print(\"\\nLast letter of the word\")\n",
    "print(s.str.capitalize())\n"
   ]
  },
  {
   "cell_type": "code",
   "execution_count": null,
   "metadata": {
    "id": "_PHMTcwbwc6H"
   },
   "outputs": [],
   "source": [
    "#Pyspark - program to join two DataFrame\n",
    "\n",
    "import pandas as pd\n",
    "student_data1 = pd.DataFrame({\n",
    "    'student_id':['S1','S2','S3','S4','S5'],\n",
    "    'name':['Daniel Freeman','Ryder Scott','Bruce Andros','Ed Bern','Morris Kwin'],\n",
    "    'Marks':[540, 530, 440, 560, 430]\n",
    "    })\n",
    "student_data2 = pd.DataFrame({\n",
    "    'student_id':['S4','S5','S6','S7','S8'],\n",
    "    'name':['Scarletter Fisher','Carla Williamson','Dante Hector','Kaiser William','Peterson Andrews'],\n",
    "    'Marks':[490,532,445,569,439]\n",
    "})\n",
    "print(\"Original DataFrames\")\n",
    "print(student_data1)\n",
    "print(\"----------------\")\n",
    "print(student_data2)\n",
    "print(\"\\nJoin the said DataFrames along with the rows\")\n",
    "result_data = pd.concat([student_data1, student_data2])\n",
    "print(result_data)"
   ]
  },
  {
   "cell_type": "code",
   "execution_count": null,
   "metadata": {
    "id": "0bsdHOiAyZI0"
   },
   "outputs": [],
   "source": [
    "#Pyspark - program to join two DataFrames along with Columns and assigning all data\n",
    "\n",
    "import pandas as pd\n",
    "student_data1 = pd.DataFrame({\n",
    "    'student_id':['S1','S2','S3','S4','S5'],\n",
    "    'name':['Daniel Freeman','Ryder Scott','Bruce Andros','Ed Bern','Morris Kwin'],\n",
    "    'Marks':[540, 530, 440, 560, 430]\n",
    "    })\n",
    "student_data2 = pd.DataFrame({\n",
    "    'student_id':['S4','S5','S6','S7','S8'],\n",
    "    'name':['Scarletter Fisher','Carla Williamson','Dante Hector','Kaiser William','Peterson Andrews'],\n",
    "    'Marks':[490,532,445,569,439]\n",
    "})\n",
    "print(\"Original DataFrames\")\n",
    "print(student_data1)\n",
    "print(\"----------------\")\n",
    "print(student_data2)\n",
    "print(\"\\nJoin the said DataFrames along with the columns\")\n",
    "result_data = pd.concat([student_data1, student_data2], axis=1)\n",
    "print(result_data)"
   ]
  },
  {
   "cell_type": "code",
   "execution_count": null,
   "metadata": {
    "id": "E9Sz46wn7Ilb"
   },
   "outputs": [],
   "source": [
    "# Pyspark - program to append rows to an existing DataFrame and display the combined data\n",
    "# adding extra rows and display the data\n",
    "\n",
    "import pandas as pd\n",
    "student_data1 = pd.DataFrame({\n",
    "    'student_id':['S1','S2','S3','S4','S5'],\n",
    "    'name':['Daniel Freeman','Ryder Scott','Bruce Andros','Ed Bern','Morris Kwin'],\n",
    "    'marks':[540, 530, 440, 560, 430]\n",
    "    })\n",
    "s6 = pd.Series(['S6','Scarlettee Fisher','590'], index=['student_id','name','marks'])\n",
    "print(\"Original DataFrames\")\n",
    "print(student_data1)\n",
    "print(\"\\nNew Row(s)\")\n",
    "print(s6)\n",
    "combined_data =  student_data1.append(s6, ignore_index = True)\n",
    "print(\"\\nCombined_Data\")\n",
    "print(combined_data)\n"
   ]
  },
  {
   "cell_type": "markdown",
   "metadata": {
    "id": "4Mc5RvPKF-y5"
   },
   "source": []
  },
  {
   "cell_type": "code",
   "execution_count": null,
   "metadata": {
    "id": "4t4RQVpw8bQa"
   },
   "outputs": [],
   "source": [
    "#Pyspark - program to join the dataframes with matching records\n",
    "\n",
    "import pandas as pd\n",
    "\n",
    "student_data1 = pd.DataFrame({\n",
    "    'student_id' : ['S1', 'S2', 'S3' ,'S4' ,'S5'],\n",
    "    'name' : ['Daniel Freeman', 'Ryder Scott' , 'Bruce Andros', 'Ed Bern', 'Morris Kwin'],\n",
    "    'marks' : [540,530,440,560,430]})\n",
    "\n",
    "student_data2 = pd.DataFrame({\n",
    "    'student_id' : ['S4', 'S5', 'S6' ,'S7' ,'S8'],\n",
    "    'name' : ['Scarlette Fisher', 'Carla Williamson' , 'Dante Hector', 'Kaiser William', 'Peterson Andrews'],\n",
    "    'marks' : [490,532,445,569,439]})\n",
    "print(\"Original DataFrames\")\n",
    "print(student_data1)\n",
    "print(\"----------------------------\")\n",
    "print(student_data2)\n",
    "\n",
    "merged_data = pd.merge(student_data1,student_data2, on = 'student_id', how= 'outer')\n",
    "\n",
    "print(\"Merged data(outer join:\")\n",
    "print(merged_data)"
   ]
  },
  {
   "cell_type": "code",
   "execution_count": null,
   "metadata": {
    "id": "Hn8zNmMQ8bmB"
   },
   "outputs": [],
   "source": [
    "# Pyspark - program to create\n",
    "#(1) Datetime object for 19th july 2022\n",
    "#(2) Specific Data and time of 9:00AM\n",
    "#(3) Local date and time\n",
    "#(4) A date without time\n",
    "#(5) Current date\n",
    "#(6) Time from a Datetime\n",
    "#(7) Current locak time\n",
    "\n",
    "import datetime\n",
    "from datetime import datetime\n",
    "print(\"datetime object for 19th July 2022\")\n",
    "print(\"datetime(2022, 07, 19)\")\n",
    "print(\"\\nSpecific date and time of 9:00AM\")\n",
    "print(datetime(2022,7,19,9,00))\n",
    "print(\"\\nLocal date and time:\")\n",
    "print(datetime.now())\n",
    "print(\"\\nA date without time\")\n",
    "print(datetime.date(datetime(2022,7,19)))\n",
    "print(\"\\nCurrent date:\")\n",
    "print(datetime.now().date())\n",
    "print(\"\\nTime from a datetime\")\n",
    "print(datetime.time(datetime(2022,7,19,1)))\n",
    "print(\"\\nCurrent local time\")\n",
    "print(datetime.now().time())"
   ]
  },
  {
   "cell_type": "code",
   "execution_count": null,
   "metadata": {
    "id": "jlFHXYOu8bzt"
   },
   "outputs": [],
   "source": [
    "#Pyspark - program to create\n",
    "# (1) A specific date using Timestamp\n",
    "# (2) date and time using Timestamp\n",
    "# (3) a time adds in the current local date using timestamp\n",
    "# (4) current date and time using timestamp\n",
    "\n",
    "import pandas as pd\n",
    "from datetime import datetime\n",
    "\n",
    "print(\"\\nA specific date using Timestamp\")\n",
    "print(pd.Timestamp(\"2022-01-01\"))\n",
    "print(\"\\n date and time using timestamp\")\n",
    "print(pd.Timestamp(\"2022-07-19 11:30\"))\n",
    "print(\"\\nA time adds in the current local date using timestamp\")\n",
    "print(pd.Timestamp(\"11:30\"))\n",
    "print(\"\\nCurrent date and time using timestamp\")\n",
    "print(pd.Timestamp(\"now\"))"
   ]
  },
  {
   "cell_type": "code",
   "execution_count": null,
   "metadata": {
    "id": "XwvWTlA-8cAS"
   },
   "outputs": [],
   "source": [
    " #Pyspark - program to craete date from historical date\n",
    "\n",
    "from datetime import datetime\n",
    "date1 = datetime(year=1968, month =12, day=26)\n",
    "print(\"Date from given year, month,day\")\n",
    "print(date1)\n",
    "from dateutil import parser\n",
    "date2 = parser.parse(\"1st January 1991\")\n",
    "print(\"\\n Date from a given string formats: \")\n",
    "print(date2)"
   ]
  },
  {
   "cell_type": "code",
   "execution_count": null,
   "metadata": {
    "id": "sjgRM1WaX4mt"
   },
   "outputs": [],
   "source": [
    "# Pyspark - missing values of a given dataFrame - Display TRue or False\n",
    "\n",
    "import pandas as pd\n",
    "import numpy as np\n",
    "\n",
    "pd.set_option('display.max_rows', None)\n",
    "df = pd.DataFrame({\n",
    "    'cust_no':[9000101,9000101,9000101,np.nan,9000101,np.nan,9000101,9000101,np.nan],\n",
    "    'Account_balance':[12000, 140000, np.nan, 140000,140000,np.nan,190000,180000,147000],\n",
    "    'date':['2018-10-05', '2018-10-05', '2018-10-05', '2018-10-05', '2018-10-05',np.nan , '2018-10-05', '2018-10-05', '2018-10-05']\n",
    "})\n",
    "print(\"Original Customer Data\")\n",
    "print(df)\n",
    "print(\"\\nMissing values of the Dataframe\")\n",
    "print(df.isna())\n",
    "print(df.isnull().sum()) # to count the no of nan values"
   ]
  },
  {
   "cell_type": "code",
   "execution_count": null,
   "metadata": {
    "id": "0mGk7lXTbMd6"
   },
   "outputs": [],
   "source": [
    "# Pyspark reading excel file\n",
    "\n",
    "import pandas as pd\n",
    "df = pd.read_excel('/content/sample_data/axis1.xlsx')\n",
    "print(df)"
   ]
  },
  {
   "cell_type": "code",
   "execution_count": null,
   "metadata": {
    "id": "WqFpTQIhud7e"
   },
   "outputs": [],
   "source": [
    "# Pyspark reading excel file & printing selected columns\n",
    "\n",
    "import pandas as pd\n",
    "import numpy as np\n",
    "cols = [0,1,2,3]\n",
    "df = pd.read_excel('/content/sample_data/axis1.xlsx', usecols=cols)\n",
    "df\n"
   ]
  },
  {
   "cell_type": "code",
   "execution_count": null,
   "metadata": {
    "id": "8yJvnNkSwFwb"
   },
   "outputs": [],
   "source": [
    "import pandas as pd\n",
    "import numpy as np\n",
    "cols = [0,2]\n",
    "df = pd.read_excel('/content/sample_data/axis1.xlsx', usecols=cols)\n",
    "df"
   ]
  },
  {
   "cell_type": "code",
   "execution_count": null,
   "metadata": {
    "id": "TID_6wKywPWN"
   },
   "outputs": [],
   "source": [
    "#---ML"
   ]
  },
  {
   "cell_type": "code",
   "execution_count": null,
   "metadata": {
    "id": "O7AWCM_uwPkS"
   },
   "outputs": [],
   "source": [
    "# Spark - MLib: Sample ML algorithm to predict the house price based on house size\n",
    "\n",
    "# Library import\n",
    "\n",
    "import matplotlib.pyplot as plt\n",
    "import numpy as np\n",
    "from sklearn import linear_model #ML library for linear regression\n",
    "\n",
    "\n",
    "# loading datasets\n",
    "\n",
    "house_prices = [245,312,279,308,199,219,405,319,324,255]\n",
    "house_size = [1400,1600, 1700, 1100, 1550, 2350,2450, 1425, 1700, 1875]\n",
    "print(house_size)\n",
    "\n",
    "#reshaping data to input\n",
    "\n",
    "new_house_size = np.array(house_size).reshape((-1,1))\n",
    "print(new_house_size)\n",
    "\n",
    "#load the model\n",
    "reg_model = linear_model.LinearRegression()\n",
    "\n",
    "#Fit data into model\n",
    "reg_model.fit(new_house_size, house_prices)\n",
    "\n",
    "#Coefficients #call regression model coeffcient\n",
    "print(\"Coefficients:\", reg_model.coef_) # reg_model.coef_ as 'm' in y = m*x+c ......y = c +c1x1 + c2x2......\n",
    "\n",
    "#Intercept\n",
    "print(\"Intercept:\", reg_model.intercept_) # reg_model.intercept_ as 'c' in y = m*x+c\n",
    "\n",
    "def graph(formula, x_range):\n",
    "  x = np.array(x_range)\n",
    "  y = eval(formula) #evaluate the formula\n",
    "  plt.plot(x,y)\n",
    "\n",
    "#plotting the predictions\n",
    "graph('reg_model.coef_ *x + reg_model.intercept_', range(1000,3000))\n",
    "plt.scatter(new_house_size, house_prices, color = 'black')\n",
    "plt.ylabel(\"House prices\")\n",
    "plt.xlabel(\"House sizes\")\n",
    "plt.show()\n",
    "\n",
    "\n"
   ]
  },
  {
   "cell_type": "code",
   "execution_count": null,
   "metadata": {
    "id": "e--zxXEiwPxN"
   },
   "outputs": [],
   "source": [
    "# Spark - Mlib\n",
    "# plotting sample Mlib graph #linear regression- gives various data points to draw the straight line\n",
    "\n",
    "import matplotlib.pyplot as plt\n",
    "from scipy import stats\n",
    "\n",
    "x = [1,2,3,4,5,6,7,8,9,11,12,13,14,15]\n",
    "y = [11,22,33,44,55,66,77,88,99,111,122,133,144,155]\n",
    "\n",
    "slope, intercept, r,z, std_err = stats.linregress(x,y) #in scipy certain keyvalues we hav to take and design it accordingly\n",
    "\n",
    " # r and p they are default these are predefined under stats.linregress in scipy\n",
    "\n",
    "#r - coefficient of correlation\n",
    "#p - prediction value or predict the future values\n",
    "\n",
    "def myfunc(x):\n",
    "  return slope * x + intercept\n",
    "\n",
    "mymodel = list(map(myfunc, x))\n",
    "\n",
    "plt.scatter(x,y)\n",
    "plt.plot(x,mymodel)\n",
    "plt.show()"
   ]
  },
  {
   "cell_type": "code",
   "execution_count": null,
   "metadata": {
    "id": "Yt1j6umUwP8W"
   },
   "outputs": [],
   "source": [
    "#----20thjuly"
   ]
  },
  {
   "cell_type": "code",
   "execution_count": null,
   "metadata": {
    "id": "qCoPN9qe0wYg"
   },
   "outputs": [],
   "source": [
    "# Spark -MLib K means\n",
    "#K-means is an unsupervised learning method for clustering data points\n",
    "# The algorithm iteratively divides data points into K clusters by minimising the variable in each cluster\n"
   ]
  },
  {
   "cell_type": "code",
   "execution_count": null,
   "metadata": {
    "id": "g9TNRp7u0wlD"
   },
   "outputs": [],
   "source": [
    "import matplotlib.pyplot as plt\n",
    "x = [1,2,3,4,5,6,7,8,9,10]\n",
    "y = [15,22,38,49,65,60,12,50,67,100]\n",
    "plt.scatter(x,y)\n",
    "plt.show()"
   ]
  },
  {
   "cell_type": "code",
   "execution_count": null,
   "metadata": {
    "id": "NPPMoW0l0ww6"
   },
   "outputs": [],
   "source": [
    "import matplotlib.pyplot as plt\n",
    "from sklearn.cluster import KMeans  # import machine learning\n",
    "\n",
    "x = [1,2,3,4,5,20,40,8,9,10]\n",
    "y = [15,22,38,49,65,60,12,50,67,100]\n",
    "plt.scatter(x,y)\n",
    "plt.show()"
   ]
  },
  {
   "cell_type": "code",
   "execution_count": null,
   "metadata": {
    "id": "NYRiLCzg0w8A"
   },
   "outputs": [],
   "source": [
    "from sklearn.cluster import KMeans\n",
    "\n",
    "data = list(zip(x,y))\n",
    "inertias = []\n",
    "\n",
    "for i in range(1,11):\n",
    "  kmeans = KMeans(n_clusters = i)\n",
    "  kmeans.fit(data) # list of data will be converted into a curve\n",
    "  inertias.append(kmeans.inertia_)\n",
    "\n",
    "plt.plot(range(1,11),inertias, marker = 'o')\n",
    "plt.title('Elbow method')\n",
    "plt.xlabel('Number of clusters')\n",
    "plt.ylabel('Inertia')\n",
    "print(inertias)"
   ]
  },
  {
   "cell_type": "code",
   "execution_count": null,
   "metadata": {
    "id": "t91lpFRKyM1d"
   },
   "outputs": [],
   "source": [
    "x = [1,2,3,4,5,6,7,8,9,10]\n",
    "y = [15,22,38,49,65,60,12,50,67,100]\n",
    "data = list(zip(x,y))\n",
    "print(data)"
   ]
  },
  {
   "cell_type": "code",
   "execution_count": null,
   "metadata": {
    "id": "RLMw693k47ev"
   },
   "outputs": [],
   "source": [
    "kmeans = KMeans(n_clusters = 2)\n",
    "kmeans.fit(data)\n",
    "plt.scatter(x,y, c = kmeans.labels_)\n",
    "plt.show()"
   ]
  },
  {
   "cell_type": "code",
   "execution_count": null,
   "metadata": {
    "id": "Zw0mAPgP-ULK"
   },
   "outputs": [],
   "source": [
    "# KNN - K nearest neighbour ( K can be used to select number of obsrvations in the alogorithm)\n",
    "\n",
    "import matplotlib as plot\n",
    "import matplotlib.pyplot as plt\n",
    "\n",
    "x = [5,4,6,7,8,9,10,11,12,14]\n",
    "y = [18,23,24,22,21,18,17,19,21,23]\n",
    "\n",
    "classes = [0,1,0,1,0,1,0,1,0,1] # because it is having two classes\n",
    "\n",
    "plt.scatter(x,y, c = classes)\n",
    "plt.show()\n"
   ]
  },
  {
   "cell_type": "code",
   "execution_count": null,
   "metadata": {
    "id": "Dl_GfjCTBhFr"
   },
   "outputs": [],
   "source": [
    "# Lets fit KNN algorithm with K =  1\n",
    "\n",
    "from sklearn.neighbors import KNeighborsClassifier\n",
    "data = list(zip(x,y))\n",
    "knn = KNeighborsClassifier(n_neighbors=1)\n",
    "knn.fit(data, classes)\n",
    "\n",
    "KNeighborsClassifier(n_neighbors = 1)"
   ]
  },
  {
   "cell_type": "code",
   "execution_count": null,
   "metadata": {
    "id": "B77E7VUvBhVF"
   },
   "outputs": [],
   "source": [
    "#lets take new values ( reference)\n",
    "new_x = 8\n",
    "new_y = 21\n",
    "\n",
    "new_point = [(new_x,new_y)]\n",
    "\n",
    "prediction = knn.predict(new_point)\n",
    "plt.scatter(x + [new_x], y + [new_y], c = classes + [prediction[0]])\n",
    "plt.text(x = new_x - 1.7 , y=new_y - 0.7, s = f\"new point, class: {prediction[0]}\" )\n",
    "\n",
    "plt.show()"
   ]
  },
  {
   "cell_type": "code",
   "execution_count": null,
   "metadata": {
    "id": "37YJmpHvBhiN"
   },
   "outputs": [],
   "source": [
    "knn=KNeighborsClassifier(n_neighbors=3) # tally based on points available nearby to predict in which cluster it will go\n",
    "knn.fit(data, classes)\n",
    "prediction = knn.predict(new_point)\n",
    "plt.scatter(x + [new_x], y + [new_y], c = classes + [prediction[0]])\n",
    "plt.text(x=new_x-1.7, y=new_y-0.7, s = f\"new point, class: {prediction[0]}\" )\n",
    "plt.show()"
   ]
  },
  {
   "cell_type": "code",
   "execution_count": null,
   "metadata": {
    "id": "F8nI8MN3Bhu_"
   },
   "outputs": [],
   "source": [
    "import pyspark\n",
    "from pyspark.sql import SparkSession\n",
    "spark = SparkSession.builder.getOrCreate()\n",
    "df = spark.sql('''select 'spark' as hello''')\n",
    "df.show()"
   ]
  },
  {
   "cell_type": "code",
   "execution_count": null,
   "metadata": {
    "id": "xO-Agw2OBh7l"
   },
   "outputs": [],
   "source": [
    "# read file using sqlcontext\n",
    "\n",
    "from pyspark import SparkContext\n",
    "from pyspark.sql import SQLContext\n",
    "import pyspark.sql\n",
    "\n",
    "comp = spark.read.csv('/content/Companies.csv',inferSchema=True, header = True)\n",
    "print(comp)\n",
    "comp.show(5)\n",
    "\n",
    "#Using SQL Queries\n",
    "comp.select(\"State\").show()\n",
    "comp.filter(comp[\"State\"]==\"New York\").show()"
   ]
  },
  {
   "cell_type": "code",
   "execution_count": null,
   "metadata": {
    "id": "-HXdIfH3W74s"
   },
   "outputs": [],
   "source": [
    "# SparkSQL groupby\n",
    "\n",
    "comp.groupBy(\"State\").count().show()"
   ]
  },
  {
   "cell_type": "code",
   "execution_count": null,
   "metadata": {
    "id": "jDEScNH2cck1"
   },
   "outputs": [],
   "source": [
    "##---capstone work 21july"
   ]
  },
  {
   "cell_type": "code",
   "execution_count": null,
   "metadata": {
    "id": "q53RuGPPanwr"
   },
   "outputs": [],
   "source": [
    "# Pyspark - missing values of a given dataFrame - Display TRue or False\n",
    "\n",
    "import pandas as pd\n",
    "import numpy as np\n",
    "\n",
    "pd.set_option('display.max_rows', None)\n",
    "df = pd.DataFrame({\n",
    "    'cust_no':[9000101,9000101,9000101,np.nan,9000101,np.nan,9000101,9000101,np.nan],\n",
    "    'Account_balance':[12000, 140000, np.nan, 140000,140000,np.nan,190000,180000,147000],\n",
    "    'date':['2018-10-05', '2018-10-05', '2018-10-05', '2018-10-05', '2018-10-05',np.nan , '2018-10-05', '2018-10-05', '2018-10-05']\n",
    "})\n",
    "print(\"Original Customer Data\")\n",
    "print(df)\n",
    "print(\"\\nMissing values of the Dataframe\")\n",
    "print(df.isna())\n",
    "print(df.isnull().sum()) # to count the no of nan values"
   ]
  },
  {
   "cell_type": "code",
   "execution_count": null,
   "metadata": {
    "id": "LLdYMbgscuxE"
   },
   "outputs": [],
   "source": [
    "\n",
    "\n",
    "\n",
    "\n",
    "# read file using sqlcontext\n",
    "\n",
    "from pyspark import SparkContext\n",
    "from pyspark.sql import SQLContext\n",
    "import pyspark.sql\n",
    "\n",
    "file1 = spark.read.csv('/content/1642064946_Dev Demog Info Affordable Home Loans.csv',inferSchema=True, header = True)\n",
    "print(file1)\n",
    "file1.show(7)\n",
    "print(file1.isna())"
   ]
  },
  {
   "cell_type": "code",
   "execution_count": null,
   "metadata": {
    "id": "f7eeifU1dTPv"
   },
   "outputs": [],
   "source": [
    "# Load file data & read\n",
    "\n",
    "import pyspark\n",
    "from pyspark.sql import SparkSession\n",
    "\n",
    "spark = SparkSession \\\n",
    "        .builder \\\n",
    "        .appName(\"Python Spark create RDD example\") \\\n",
    "        .getOrCreate()\n",
    "df= spark.read.format('csv') .\\\n",
    "                options(header='true', \\\n",
    "                        inferschema = 'true'). \\\n",
    "                  load(\"/content/1642064946_Dev Demog Info Affordable Home Loans.csv\",header=True)\n",
    "df.show(10)\n",
    "df.printSchema()"
   ]
  },
  {
   "cell_type": "code",
   "execution_count": null,
   "metadata": {
    "id": "0545eC9NlETV"
   },
   "outputs": [],
   "source": [
    "# --- 26thjuly"
   ]
  },
  {
   "cell_type": "code",
   "execution_count": null,
   "metadata": {
    "id": "XLOvlErUyPcy"
   },
   "outputs": [],
   "source": [
    "## Data injection"
   ]
  },
  {
   "cell_type": "code",
   "execution_count": null,
   "metadata": {
    "id": "ZI0N2x6_yYaD"
   },
   "outputs": [],
   "source": [
    "import matplotlib"
   ]
  },
  {
   "cell_type": "code",
   "execution_count": null,
   "metadata": {
    "colab": {
     "base_uri": "https://localhost:8080/"
    },
    "id": "AGQ-Dl5kyPoe",
    "outputId": "f9e3b2a8-692d-4cf2-dec0-c1f82c58e381"
   },
   "outputs": [
    {
     "name": "stdout",
     "output_type": "stream",
     "text": [
      "3.2.2\n"
     ]
    }
   ],
   "source": [
    "print(matplotlib.__version__)"
   ]
  },
  {
   "cell_type": "code",
   "execution_count": null,
   "metadata": {
    "id": "gEBE28DQyWLC"
   },
   "outputs": [],
   "source": [
    "import matplotlib.pyplot as plt\n",
    "import numpy as np"
   ]
  },
  {
   "cell_type": "code",
   "execution_count": null,
   "metadata": {
    "colab": {
     "base_uri": "https://localhost:8080/",
     "height": 282
    },
    "id": "VKRbr7deylhF",
    "outputId": "a3cfabc0-bc6c-43bb-f7e7-7e6f7770cf31"
   },
   "outputs": [
    {
     "data": {
      "text/plain": [
       "[<matplotlib.lines.Line2D at 0x7fa009e40a50>]"
      ]
     },
     "execution_count": 46,
     "metadata": {},
     "output_type": "execute_result"
    },
    {
     "data": {
      "image/png": "[encoded data removed]",
      "text/plain": [
       "<Figure size 432x288 with 1 Axes>"
      ]
     },
     "metadata": {
      "needs_background": "light"
     },
     "output_type": "display_data"
    }
   ],
   "source": [
    "x = np.array([1,2,3,4])\n",
    "y = np.array([10,20,30,40])\n",
    "plt.plot(x,y)"
   ]
  },
  {
   "cell_type": "code",
   "execution_count": null,
   "metadata": {
    "colab": {
     "base_uri": "https://localhost:8080/",
     "height": 265
    },
    "id": "zdhLT3XGylwP",
    "outputId": "ec972911-15a2-4cbd-fd29-fe03b2275b18"
   },
   "outputs": [
    {
     "data": {
      "image/png": "[encoded data removed]",
      "text/plain": [
       "<Figure size 432x288 with 1 Axes>"
      ]
     },
     "metadata": {
      "needs_background": "light"
     },
     "output_type": "display_data"
    }
   ],
   "source": [
    "plt.plot(x,y,color=\"r\")\n",
    "plt.show()"
   ]
  },
  {
   "cell_type": "code",
   "execution_count": null,
   "metadata": {
    "colab": {
     "base_uri": "https://localhost:8080/",
     "height": 265
    },
    "id": "bnhGQIJxymIH",
    "outputId": "2c27501e-6e66-4106-fa4c-3f9c342ac06c"
   },
   "outputs": [
    {
     "data": {
      "image/png": "[encoded data removed]",
      "text/plain": [
       "<Figure size 432x288 with 1 Axes>"
      ]
     },
     "metadata": {
      "needs_background": "light"
     },
     "output_type": "display_data"
    }
   ],
   "source": [
    "ypoints =  np.array([3,8,1,10,5,7])\n",
    "plt.plot(ypoints,color='grey')\n",
    "plt.show()"
   ]
  },
  {
   "cell_type": "code",
   "execution_count": null,
   "metadata": {
    "colab": {
     "base_uri": "https://localhost:8080/",
     "height": 265
    },
    "id": "1phr4ugt0ARo",
    "outputId": "a9e13d6d-fa24-4cfe-dfd7-735050148905"
   },
   "outputs": [
    {
     "data": {
      "image/png": "[encoded data removed]",
      "text/plain": [
       "<Figure size 432x288 with 1 Axes>"
      ]
     },
     "metadata": {
      "needs_background": "light"
     },
     "output_type": "display_data"
    }
   ],
   "source": [
    "days = list(range(0,22,3))\n",
    "celsius_values = [25.1,24.6,28,27.8,32.8,30.5,32.8,33.1]\n",
    "\n",
    "plt.plot(days, celsius_values)\n",
    "plt.show()"
   ]
  },
  {
   "cell_type": "code",
   "execution_count": null,
   "metadata": {
    "colab": {
     "base_uri": "https://localhost:8080/",
     "height": 265
    },
    "id": "69gPW9_v0Adl",
    "outputId": "3b5e8046-e48b-46de-ff3d-5892dbc69541"
   },
   "outputs": [
    {
     "data": {
      "image/png": "[encoded data removed]",
      "text/plain": [
       "<Figure size 432x288 with 1 Axes>"
      ]
     },
     "metadata": {
      "needs_background": "light"
     },
     "output_type": "display_data"
    }
   ],
   "source": [
    "x =  np.arange(1,11) #sysmatically align\n",
    "y = np.exp(x) \n",
    "plt.plot(x,y)\n",
    "plt.show()"
   ]
  },
  {
   "cell_type": "code",
   "execution_count": null,
   "metadata": {
    "colab": {
     "base_uri": "https://localhost:8080/",
     "height": 265
    },
    "id": "zrKOsmjz4GCp",
    "outputId": "d24e9a9c-ab42-4175-c244-6ae5d0f2604c"
   },
   "outputs": [
    {
     "data": {
      "image/png": "[encoded data removed]",
      "text/plain": [
       "<Figure size 432x288 with 1 Axes>"
      ]
     },
     "metadata": {
      "needs_background": "light"
     },
     "output_type": "display_data"
    }
   ],
   "source": [
    "y = np.array([3,8,1,10])\n",
    "plt.plot(y, linestyle = 'dotted')\n",
    "plt.show()"
   ]
  },
  {
   "cell_type": "code",
   "execution_count": null,
   "metadata": {
    "colab": {
     "base_uri": "https://localhost:8080/",
     "height": 265
    },
    "id": "gqriqYBn6_ra",
    "outputId": "ef1e35aa-fec1-4f70-aab3-e905a161c97d"
   },
   "outputs": [
    {
     "data": {
      "image/png": "[encoded data removed]",
      "text/plain": [
       "<Figure size 432x288 with 1 Axes>"
      ]
     },
     "metadata": {
      "needs_background": "light"
     },
     "output_type": "display_data"
    }
   ],
   "source": [
    "y = np.array([3,8,1,10])\n",
    "plt.plot(y, linestyle = '-.',color='g')\n",
    "plt.show()"
   ]
  },
  {
   "cell_type": "code",
   "execution_count": null,
   "metadata": {
    "colab": {
     "base_uri": "https://localhost:8080/",
     "height": 265
    },
    "id": "FtpnP0Jb4GLm",
    "outputId": "014ccf15-47d0-4d10-d982-2955c3de8830"
   },
   "outputs": [
    {
     "data": {
      "image/png": "[encoded data removed]",
      "text/plain": [
       "<Figure size 432x288 with 1 Axes>"
      ]
     },
     "metadata": {
      "needs_background": "light"
     },
     "output_type": "display_data"
    }
   ],
   "source": [
    "y = np.array([3,8,1,10])\n",
    "plt.plot(y, linestyle = '-.',color='c',linewidth=10)\n",
    "plt.show()"
   ]
  },
  {
   "cell_type": "code",
   "execution_count": null,
   "metadata": {
    "colab": {
     "base_uri": "https://localhost:8080/",
     "height": 282
    },
    "id": "hUrAQOqY7-OR",
    "outputId": "775de734-390c-4c69-cd1f-292ee1fd58e8"
   },
   "outputs": [
    {
     "data": {
      "text/plain": [
       "[<matplotlib.lines.Line2D at 0x7fa0097a9c10>]"
      ]
     },
     "execution_count": 55,
     "metadata": {},
     "output_type": "execute_result"
    },
    {
     "data": {
      "image/png": "[encoded data removed]",
      "text/plain": [
       "<Figure size 432x288 with 1 Axes>"
      ]
     },
     "metadata": {
      "needs_background": "light"
     },
     "output_type": "display_data"
    }
   ],
   "source": [
    "y = np.array([3,8,1,10])\n",
    "y1 = np.array([6,2,7,11])\n",
    "plt.plot(y)\n",
    "plt.plot(y1)"
   ]
  },
  {
   "cell_type": "code",
   "execution_count": null,
   "metadata": {
    "colab": {
     "base_uri": "https://localhost:8080/",
     "height": 265
    },
    "id": "NPyqPHxb7-s_",
    "outputId": "6d6e661e-b7ef-416b-c3f2-396649bc4394"
   },
   "outputs": [
    {
     "data": {
      "image/png": "[encoded data removed]",
      "text/plain": [
       "<Figure size 432x288 with 1 Axes>"
      ]
     },
     "metadata": {
      "needs_background": "light"
     },
     "output_type": "display_data"
    }
   ],
   "source": [
    "n = 256\n",
    "x = np.linspace(-np.pi, np.pi, n, endpoint = True)\n",
    "y = np.sin(2*x)\n",
    "plt.plot(x,y, color='blue',alpha=1.00)\n",
    "plt.fill_between(x,y,0, color='violet', alpha=0.1)\n",
    "plt.show()"
   ]
  },
  {
   "cell_type": "code",
   "execution_count": null,
   "metadata": {
    "colab": {
     "base_uri": "https://localhost:8080/",
     "height": 265
    },
    "id": "6237_v2U7-38",
    "outputId": "1b77fd52-ffd9-49ae-cf49-e3fa4950746e"
   },
   "outputs": [
    {
     "data": {
      "image/png": "[encoded data removed]",
      "text/plain": [
       "<Figure size 432x288 with 1 Axes>"
      ]
     },
     "metadata": {
      "needs_background": "light"
     },
     "output_type": "display_data"
    }
   ],
   "source": [
    "n = 256\n",
    "x = np.linspace(-np.pi, np.pi, n, endpoint = True)\n",
    "y = np.cos(2*x)\n",
    "plt.plot(x,y, color='blue',alpha=1.00)\n",
    "plt.fill_between(x,y,0, color='orange', alpha=0.1) # fill_between(x,y,0 or 1 or 2 or 3.....)\n",
    "plt.show()"
   ]
  },
  {
   "cell_type": "code",
   "execution_count": null,
   "metadata": {
    "colab": {
     "base_uri": "https://localhost:8080/",
     "height": 265
    },
    "id": "cZLdLk5i7_Bl",
    "outputId": "3f737054-5b32-43d4-c5c1-b6e7025dd4e7"
   },
   "outputs": [
    {
     "data": {
      "image/png": "[encoded data removed]",
      "text/plain": [
       "<Figure size 432x288 with 1 Axes>"
      ]
     },
     "metadata": {
      "needs_background": "light"
     },
     "output_type": "display_data"
    }
   ],
   "source": [
    "n = 256\n",
    "x = np.linspace(-np.pi, np.pi, n, endpoint = True)\n",
    "y = np.tan(2*x)\n",
    "plt.plot(x,y, color='g',alpha=1.00)\n",
    "plt.fill_between(x,y,0, color='blue', alpha=0.1)\n",
    "plt.show()"
   ]
  },
  {
   "cell_type": "code",
   "execution_count": null,
   "metadata": {
    "colab": {
     "base_uri": "https://localhost:8080/",
     "height": 295
    },
    "id": "s7q9LIVN-8C0",
    "outputId": "07ca9799-ed27-4429-e56f-5bf7ab2cb189"
   },
   "outputs": [
    {
     "data": {
      "image/png": "[encoded data removed]",
      "text/plain": [
       "<Figure size 432x288 with 1 Axes>"
      ]
     },
     "metadata": {
      "needs_background": "light"
     },
     "output_type": "display_data"
    }
   ],
   "source": [
    "# marker\n",
    "\n",
    "x1 = np.array([0,1,2,3])\n",
    "y1 = np.array([3,8,1,10])\n",
    "x2 = np.array([0,1,2,3])\n",
    "y2 = np.array([6,2,7,11])\n",
    "\n",
    "plt.plot(x1,y1,x2,y2, marker = 'o')\n",
    "plt.xlabel('Profit')\n",
    "plt.ylabel('Month')\n",
    "plt.title('Monthly Profit')\n",
    "plt.legend(labels = ('may','april'), loc='lower right')\n",
    "plt.show()"
   ]
  },
  {
   "cell_type": "code",
   "execution_count": null,
   "metadata": {
    "colab": {
     "base_uri": "https://localhost:8080/",
     "height": 265
    },
    "id": "r3_2tmarAqHy",
    "outputId": "71829a65-2652-49b1-eff6-8712558cb00d"
   },
   "outputs": [
    {
     "data": {
      "image/png": "[encoded data removed]",
      "text/plain": [
       "<Figure size 432x288 with 1 Axes>"
      ]
     },
     "metadata": {
      "needs_background": "light"
     },
     "output_type": "display_data"
    }
   ],
   "source": [
    "import matplotlib.pyplot as plt\n",
    "y =  [1,4,9,16,25,36,49,64]\n",
    "x1 = [1,16,30,42,55,68,77,88]\n",
    "x2 = [1,6,12,18,28,40,52,65]\n",
    "\n",
    "plt.plot(x1,y, 'ys-')\n",
    "plt.plot(x2,y, 'go--')\n",
    "plt.show()\n",
    "    "
   ]
  },
  {
   "cell_type": "code",
   "execution_count": null,
   "metadata": {
    "colab": {
     "base_uri": "https://localhost:8080/",
     "height": 295
    },
    "id": "S2nkbp0GAqT5",
    "outputId": "54bc02e9-cb2a-414f-88e6-41eab87f3e21"
   },
   "outputs": [
    {
     "data": {
      "image/png": "[encoded data removed]",
      "text/plain": [
       "<Figure size 432x288 with 1 Axes>"
      ]
     },
     "metadata": {
      "needs_background": "light"
     },
     "output_type": "display_data"
    }
   ],
   "source": [
    "import matplotlib.pyplot as plt\n",
    "y =  [1,4,9,16,25,36,49,64]\n",
    "x1 = [1,16,30,42,55,68,77,88]\n",
    "x2 = [1,6,12,18,28,40,52,65]\n",
    "\n",
    "plt.plot(x1,y, 'ys-')\n",
    "plt.plot(x2,y, 'co--')\n",
    "plt.legend(labels = ('tv','smartphone'),loc = 'upper left')\n",
    "plt.grid(True)\n",
    "plt.title('Product Sales')\n",
    "plt.xlabel('Medium')\n",
    "plt.ylabel('Sales')\n",
    "plt.show()"
   ]
  },
  {
   "cell_type": "code",
   "execution_count": null,
   "metadata": {
    "colab": {
     "base_uri": "https://localhost:8080/",
     "height": 265
    },
    "id": "6WmRefBPAqe2",
    "outputId": "971a32d5-c22a-4f63-937f-cc05b17df9aa"
   },
   "outputs": [
    {
     "data": {
      "image/png": "[encoded data removed]",
      "text/plain": [
       "<Figure size 432x288 with 1 Axes>"
      ]
     },
     "metadata": {
      "needs_background": "light"
     },
     "output_type": "display_data"
    }
   ],
   "source": [
    "# data display - Bar\n",
    "\n",
    "import matplotlib.pyplot as plt\n",
    "import numpy as np\n",
    "\n",
    "x = np.array([\"A\",\"B\",\"C\",\"D\"])\n",
    "y = np.array([3,8,1,10])\n",
    "\n",
    "plt.bar(x,y,color='r')\n",
    "plt.show()\n"
   ]
  },
  {
   "cell_type": "code",
   "execution_count": null,
   "metadata": {
    "colab": {
     "base_uri": "https://localhost:8080/",
     "height": 265
    },
    "id": "XUFIYh3RNBNq",
    "outputId": "8854854b-f854-496a-a396-5f58d265400a"
   },
   "outputs": [
    {
     "data": {
      "image/png": "[encoded data removed]",
      "text/plain": [
       "<Figure size 432x288 with 1 Axes>"
      ]
     },
     "metadata": {
      "needs_background": "light"
     },
     "output_type": "display_data"
    }
   ],
   "source": [
    "# Employee Performance\n",
    "\n",
    "x = ['Ramesh','Suresh','Mahesh','John']\n",
    "y = [900,800,780,980]\n",
    "\n",
    "plt.bar(x,y)\n",
    "plt.show()"
   ]
  },
  {
   "cell_type": "code",
   "execution_count": null,
   "metadata": {
    "colab": {
     "base_uri": "https://localhost:8080/",
     "height": 265
    },
    "id": "g-PO6ciOWJYi",
    "outputId": "8281edf3-c0f6-4224-b976-1311099b4c6f"
   },
   "outputs": [
    {
     "data": {
      "image/png": "[encoded data removed]",
      "text/plain": [
       "<Figure size 432x288 with 1 Axes>"
      ]
     },
     "metadata": {
      "needs_background": "light"
     },
     "output_type": "display_data"
    }
   ],
   "source": [
    "# Employee Performance\n",
    "\n",
    "x = ['Ramesh','Suresh','Mahesh','John']\n",
    "y = [900,800,780,980]\n",
    "\n",
    "plt.barh(x,y,color='c')\n",
    "plt.show()"
   ]
  },
  {
   "cell_type": "code",
   "execution_count": null,
   "metadata": {
    "colab": {
     "base_uri": "https://localhost:8080/",
     "height": 265
    },
    "id": "WReqAfa_Yhj_",
    "outputId": "cc6fc22b-f2c9-464f-b8cf-96b19050bfba"
   },
   "outputs": [
    {
     "data": {
      "image/png": "[encoded data removed]",
      "text/plain": [
       "<Figure size 432x288 with 1 Axes>"
      ]
     },
     "metadata": {
      "needs_background": "light"
     },
     "output_type": "display_data"
    }
   ],
   "source": [
    "# Employee Performance\n",
    "\n",
    "x = ['Ramesh','Suresh','Mahesh','John']\n",
    "y = [900,800,780,980]\n",
    "\n",
    "plt.bar(x,y,color='black') #color='y',color='r'\n",
    "plt.show()"
   ]
  },
  {
   "cell_type": "code",
   "execution_count": null,
   "metadata": {
    "colab": {
     "base_uri": "https://localhost:8080/",
     "height": 265
    },
    "id": "VRqfuO8dYhyu",
    "outputId": "cbc06de6-8982-46b3-e4dd-3d9bd530c956"
   },
   "outputs": [
    {
     "data": {
      "image/png": "[encoded data removed]",
      "text/plain": [
       "<Figure size 432x288 with 1 Axes>"
      ]
     },
     "metadata": {
      "needs_background": "light"
     },
     "output_type": "display_data"
    }
   ],
   "source": [
    "# Employee Performance\n",
    "\n",
    "x = ['Ramesh','Suresh','Mahesh','John']\n",
    "y = [900,800,780,980]\n",
    "\n",
    "plt.barh(x,y,color='#4CAF30',height=0.5) #'#4CAF50''#4CAF60''#4CAF70' intensity may change\n",
    "plt.show()"
   ]
  },
  {
   "cell_type": "code",
   "execution_count": null,
   "metadata": {
    "colab": {
     "base_uri": "https://localhost:8080/",
     "height": 265
    },
    "id": "7LiP9tnSYh99",
    "outputId": "6f40ac9a-cac6-4fd0-cc25-656eade59cc6"
   },
   "outputs": [
    {
     "data": {
      "image/png": "[encoded data removed]",
      "text/plain": [
       "<Figure size 432x288 with 1 Axes>"
      ]
     },
     "metadata": {
      "needs_background": "light"
     },
     "output_type": "display_data"
    }
   ],
   "source": [
    "# Employee Performance\n",
    "\n",
    "x = ['Ramesh','Suresh','Mahesh','John']\n",
    "y = [900,800,780,980]\n",
    "\n",
    "plt.bar(x,y,color='grey',width=0.5)\n",
    "plt.show()"
   ]
  },
  {
   "cell_type": "code",
   "execution_count": null,
   "metadata": {
    "id": "x4XmImIsYiIT"
   },
   "outputs": [],
   "source": []
  },
  {
   "cell_type": "code",
   "execution_count": null,
   "metadata": {
    "id": "OJ-3pJGHYiTh"
   },
   "outputs": [],
   "source": []
  },
  {
   "cell_type": "code",
   "execution_count": null,
   "metadata": {
    "colab": {
     "base_uri": "https://localhost:8080/",
     "height": 295
    },
    "id": "3E6r8SkcPK7o",
    "outputId": "647eb76b-fce3-4dc2-8001-0df3758cd2d4"
   },
   "outputs": [
    {
     "data": {
      "image/png": "[encoded data removed]",
      "text/plain": [
       "<Figure size 432x288 with 1 Axes>"
      ]
     },
     "metadata": {
      "needs_background": "light"
     },
     "output_type": "display_data"
    }
   ],
   "source": [
    "# Ind vs Aus scores\n",
    "\n",
    "Team1 = [20,35,30,35,27]\n",
    "Team2 = [25,12,34,20,25]\n",
    "\n",
    "group = np.arange(5)\n",
    "plt.bar(group,Team1,width=0.35,color='yellow')\n",
    "plt.bar(group, Team2, width=0.35, bottom = Team1, color = 'b')\n",
    "plt.xlabel('Scores')\n",
    "plt.ylabel('Groups')\n",
    "plt.title('Cricket scores by Ind vs Aus')\n",
    "plt.xticks(group, ('G1','G2','G3','G4','G5'))\n",
    "plt.yticks(np.arange(0,81,10))\n",
    "plt.legend(labels = ['Aus', 'Ind'] )\n",
    "plt.show()"
   ]
  },
  {
   "cell_type": "code",
   "execution_count": null,
   "metadata": {
    "colab": {
     "base_uri": "https://localhost:8080/",
     "height": 248
    },
    "id": "0RaAs111PLI4",
    "outputId": "e2a383dc-6827-424c-f008-bc318cb4684c"
   },
   "outputs": [
    {
     "data": {
      "image/png": "[encoded data removed]",
      "text/plain": [
       "<Figure size 432x288 with 1 Axes>"
      ]
     },
     "metadata": {},
     "output_type": "display_data"
    }
   ],
   "source": [
    "# Financial Instruments, Loans, CreditCardFund, CASA(Current A/c + Savings A/c), debitcardfund\n",
    "import numpy as np\n",
    "y = np.array([35, 25, 65, 15])\n",
    "lb = ['Loans','CrF','CASA','DbF']\n",
    "\n",
    "plt.pie(y, labels=lb)\n",
    "plt.show()"
   ]
  },
  {
   "cell_type": "code",
   "execution_count": null,
   "metadata": {
    "colab": {
     "base_uri": "https://localhost:8080/",
     "height": 248
    },
    "id": "IXbjZkJVPLSc",
    "outputId": "10c4535a-9e5f-42ed-886d-acfdebde4a06"
   },
   "outputs": [
    {
     "data": {
      "image/png": "[encoded data removed]",
      "text/plain": [
       "<Figure size 432x288 with 1 Axes>"
      ]
     },
     "metadata": {},
     "output_type": "display_data"
    }
   ],
   "source": [
    "# Financial Instruments, Loans, CreditCardFund, CASA(Current A/c + Savings A/c), debitcardfund\n",
    "\n",
    "y = np.array([35, 25, 65, 15])\n",
    "lb = ['Loans','CrF','CASA','DbF']\n",
    "\n",
    "plt.pie(y, labels=lb,startangle = 180)\n",
    "plt.show()"
   ]
  },
  {
   "cell_type": "code",
   "execution_count": null,
   "metadata": {
    "colab": {
     "base_uri": "https://localhost:8080/",
     "height": 248
    },
    "id": "_FkDOzB7Ts2V",
    "outputId": "ad850843-e989-45d3-c4a4-e0788d8945cc"
   },
   "outputs": [
    {
     "data": {
      "image/png": "[encoded data removed]",
      "text/plain": [
       "<Figure size 432x288 with 1 Axes>"
      ]
     },
     "metadata": {},
     "output_type": "display_data"
    }
   ],
   "source": [
    "# Financial Instruments, Loans, CreditCardFund, CASA(Current A/c + Savings A/c), debitcardfund\n",
    "\n",
    "y = np.array([35, 25, 65, 15])\n",
    "lb = ['Loans','CrF','CASA','DbF']\n",
    "exp = [0.2,0,0,0]\n",
    "\n",
    "plt.pie(y, labels=lb,startangle = 180,explode = exp)\n",
    "plt.show()"
   ]
  },
  {
   "cell_type": "code",
   "execution_count": null,
   "metadata": {
    "colab": {
     "base_uri": "https://localhost:8080/",
     "height": 259
    },
    "id": "4DxPKpAejuSm",
    "outputId": "253f879b-0dff-44fa-c0d4-b05164d131f4"
   },
   "outputs": [
    {
     "data": {
      "image/png": "[encoded data removed]",
      "text/plain": [
       "<Figure size 432x288 with 1 Axes>"
      ]
     },
     "metadata": {},
     "output_type": "display_data"
    }
   ],
   "source": [
    "# Financial Instruments, Loans, CreditCardFund, CASA(Current A/c + Savings A/c), debitcardfund\n",
    "\n",
    "y = np.array([35, 25, 65, 15])\n",
    "lb = ['Loans','CrF','CASA','DbF']\n",
    "exp = [0.2,0.3,0.4,0.1]\n",
    "\n",
    "plt.pie(y, labels=lb,startangle = 180,explode = exp)\n",
    "plt.show()\n"
   ]
  },
  {
   "cell_type": "code",
   "execution_count": null,
   "metadata": {
    "colab": {
     "base_uri": "https://localhost:8080/",
     "height": 248
    },
    "id": "XN0URuNITs_z",
    "outputId": "5b2683df-0f9a-4602-a62a-22f537651da7"
   },
   "outputs": [
    {
     "data": {
      "image/png": "[encoded data removed]",
      "text/plain": [
       "<Figure size 432x288 with 1 Axes>"
      ]
     },
     "metadata": {},
     "output_type": "display_data"
    }
   ],
   "source": [
    "y = np.array([35, 25, 65, 15])\n",
    "lb = ['Loans','CrF','CASA','DbF']\n",
    "exp = [0,0,0.7,0]\n",
    "\n",
    "plt.pie(y, labels=lb)\n",
    "plt.legend(title = 'Bank Finance Data', loc =  'lower left')\n",
    "plt.show()"
   ]
  },
  {
   "cell_type": "code",
   "execution_count": null,
   "metadata": {
    "colab": {
     "base_uri": "https://localhost:8080/",
     "height": 248
    },
    "id": "NoL9H4nxTtIO",
    "outputId": "3a197582-3958-45c3-8a68-b42ba5908c27"
   },
   "outputs": [
    {
     "data": {
      "image/png": "[encoded data removed]",
      "text/plain": [
       "<Figure size 432x288 with 1 Axes>"
      ]
     },
     "metadata": {},
     "output_type": "display_data"
    }
   ],
   "source": [
    "# programming language usability with Stackoverflow\n",
    "\n",
    "langs = np.array(['C','C++','Java','Python','Javascript','Php'])\n",
    "usability =  np.array([6, 6, 23, 29, 10, 7])\n",
    "\n",
    "plt.pie(usability, labels = langs, autopct = '%1.2f%%')\n",
    "plt.show()"
   ]
  },
  {
   "cell_type": "code",
   "execution_count": null,
   "metadata": {
    "colab": {
     "base_uri": "https://localhost:8080/",
     "height": 248
    },
    "id": "C4plVoEZTtP1",
    "outputId": "25c54cae-c541-4df4-a600-3ea0a4762c99"
   },
   "outputs": [
    {
     "data": {
      "image/png": "[encoded data removed]",
      "text/plain": [
       "<Figure size 432x288 with 1 Axes>"
      ]
     },
     "metadata": {
      "needs_background": "light"
     },
     "output_type": "display_data"
    }
   ],
   "source": [
    "# sin & cos curves in 3D\n",
    "\n",
    "from mpl_toolkits import mplot3d\n",
    "import numpy as np\n",
    "import matplotlib.pyplot as plt\n",
    "\n",
    "fig = plt.figure()\n",
    "ax = plt.axes(projection = '3d')\n",
    "z = np.linspace(0,1,100)\n",
    "x = z*np.sin(20*z)\n",
    "y = z*np.cos(20*z)\n",
    "\n",
    "ax.plot3D(x,y,z,'grey')\n",
    "plt.title('3D line plot')\n",
    "plt.show()"
   ]
  },
  {
   "cell_type": "code",
   "execution_count": null,
   "metadata": {
    "colab": {
     "base_uri": "https://localhost:8080/",
     "height": 248
    },
    "id": "Rt0PcriWa5oI",
    "outputId": "030e0fc6-928a-4084-fff6-c3d322ae82fb"
   },
   "outputs": [
    {
     "data": {
      "image/png": "[encoded data removed]",
      "text/plain": [
       "<Figure size 432x288 with 1 Axes>"
      ]
     },
     "metadata": {
      "needs_background": "light"
     },
     "output_type": "display_data"
    }
   ],
   "source": [
    "# sin & cos curves in 3D #scatter graph\n",
    "\n",
    "from mpl_toolkits import mplot3d\n",
    "import numpy as np\n",
    "import matplotlib.pyplot as plt\n",
    "\n",
    "fig = plt.figure()\n",
    "ax = plt.axes(projection = '3d')\n",
    "z = np.linspace(0,1,100)\n",
    "x = z*np.sin(20*z)\n",
    "y = z*np.cos(20*z)\n",
    "c = x + y\n",
    "\n",
    "ax.scatter(x,y,z,c=c)\n",
    "plt.title('3D line plot')\n",
    "plt.show()"
   ]
  },
  {
   "cell_type": "code",
   "execution_count": null,
   "metadata": {
    "colab": {
     "base_uri": "https://localhost:8080/",
     "height": 248
    },
    "id": "TmBMHrC-a5z1",
    "outputId": "3d0dcbc0-6843-457c-e4fa-0f0cc827fc2c"
   },
   "outputs": [
    {
     "data": {
      "image/png": "[encoded data removed]",
      "text/plain": [
       "<Figure size 432x288 with 1 Axes>"
      ]
     },
     "metadata": {
      "needs_background": "light"
     },
     "output_type": "display_data"
    }
   ],
   "source": [
    "# Surface graph\n",
    "\n",
    "x = np.outer(np.linspace(-2,2,30), np.ones(30))\n",
    "y = x.copy().T # T is for transpose\n",
    "z = np.cos(x**2 + y**2)\n",
    "\n",
    "fig = plt.figure()\n",
    "ax = plt.axes(projection = '3d')\n",
    "ax.plot_surface(x, y, z, cmap = 'magma', edgecolor = 'none') #cma- - current map\n",
    "plt.title('Surface plot')\n",
    "plt.show()"
   ]
  },
  {
   "cell_type": "code",
   "execution_count": null,
   "metadata": {
    "id": "1CzAT4zha5_A"
   },
   "outputs": [],
   "source": [
    "ValueError: 'none' is not a valid value for name; supported values are 'Accent', 'Accent_r', 'Blues', 'Blues_r', 'BrBG', 'BrBG_r', 'BuGn', 'BuGn_r', 'BuPu', 'BuPu_r', 'CMRmap', 'CMRmap_r', 'Dark2', 'Dark2_r', 'GnBu', 'GnBu_r', 'Greens', 'Greens_r', 'Greys', 'Greys_r', 'OrRd', 'OrRd_r', 'Oranges', 'Oranges_r', 'PRGn', 'PRGn_r', 'Paired', 'Paired_r', 'Pastel1', 'Pastel1_r', 'Pastel2', 'Pastel2_r', 'PiYG', 'PiYG_r', 'PuBu', 'PuBuGn', 'PuBuGn_r', 'PuBu_r', 'PuOr', 'PuOr_r', 'PuRd', 'PuRd_r', 'Purples', 'Purples_r', 'RdBu', 'RdBu_r', 'RdGy', 'RdGy_r', 'RdPu', 'RdPu_r', 'RdYlBu', 'RdYlBu_r', 'RdYlGn', 'RdYlGn_r', 'Reds', 'Reds_r', 'Set1', 'Set1_r', 'Set2', 'Set2_r', 'Set3', 'Set3_r', 'Spectral', 'Spectral_r', 'Wistia', 'Wistia_r', 'YlGn', 'YlGnBu', 'YlGnBu_r', 'YlGn_r', 'YlOrBr', 'YlOrBr_r', 'YlOrRd', 'YlOrRd_r', 'afmhot', 'afmhot_r', 'autumn', 'autumn_r', 'binary', 'binary_r', 'bone', 'bone_r', 'brg', 'brg_r', 'bwr', 'bwr_r', 'cividis', 'cividis_r', 'cool', 'cool_r', 'coolwarm', 'coolwarm_r', 'copper', 'copper_r', 'cubehelix', 'cubehelix_r', 'flag', 'flag_r', 'gist_earth', 'gist_earth_r', 'gist_gray', 'gist_gray_r', 'gist_heat', 'gist_heat_r', 'gist_ncar', 'gist_ncar_r', 'gist_rainbow', 'gist_rainbow_r', 'gist_stern', 'gist_stern_r', 'gist_yarg', 'gist_yarg_r', 'gnuplot', 'gnuplot2', 'gnuplot2_r', 'gnuplot_r', 'gray', 'gray_r', 'hot', 'hot_r', 'hsv', 'hsv_r', 'inferno', 'inferno_r', 'jet', 'jet_r', 'magma', 'magma_r', 'nipy_spectral', 'nipy_spectral_r', 'ocean', 'oce..."
   ]
  },
  {
   "cell_type": "code",
   "execution_count": null,
   "metadata": {
    "id": "D00VR477a6JR"
   },
   "outputs": [],
   "source": []
  },
  {
   "cell_type": "code",
   "execution_count": null,
   "metadata": {
    "id": "PAKtXG_ta6TQ"
   },
   "outputs": [],
   "source": []
  },
  {
   "cell_type": "code",
   "execution_count": null,
   "metadata": {
    "id": "g6vUSh7oa6c1"
   },
   "outputs": [],
   "source": []
  },
  {
   "cell_type": "code",
   "execution_count": null,
   "metadata": {
    "id": "xfAWfGlVYk4d"
   },
   "outputs": [],
   "source": []
  }
 ],
 "metadata": {
  "colab": {
   "collapsed_sections": [],
   "name": "Axis_Pyspark.ipynb",
   "provenance": []
  },
  "kernelspec": {
   "display_name": "Python 3 (ipykernel)",
   "language": "python",
   "name": "python3"
  },
  "language_info": {
   "codemirror_mode": {
    "name": "ipython",
    "version": 3
   },
   "file_extension": ".py",
   "mimetype": "text/x-python",
   "name": "python",
   "nbconvert_exporter": "python",
   "pygments_lexer": "ipython3",
   "version": "3.10.2"
  }
 },
 "nbformat": 4,
 "nbformat_minor": 1
}
